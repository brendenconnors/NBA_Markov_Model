{
 "cells": [
  {
   "cell_type": "code",
   "execution_count": 1,
   "metadata": {},
   "outputs": [],
   "source": [
    "import pandas as pd\n",
    "import datetime\n",
    "from collections import Counter\n",
    "from collections import defaultdict\n",
    "import numpy as np\n",
    "import random\n",
    "df = pd.read_csv(r'NBA-PBP-2018-2019.csv')\n",
    "df['Date'] = pd.to_datetime(df.Date)\n",
    "df['GameID'] =df.groupby('URL').ngroup()\n"
   ]
  },
  {
   "cell_type": "markdown",
   "metadata": {},
   "source": [
    "We will need a function to see how many games everyone has played at a certain date. This will let us set a 'minimum n games' need to be played to build a training set."
   ]
  },
  {
   "cell_type": "code",
   "execution_count": 2,
   "metadata": {},
   "outputs": [],
   "source": [
    "def games_played(team,date,df):\n",
    "    \"\"\"date should be in the form yyyy-mm-dd\n",
    "    \n",
    "    This function returns a pandas series of number of games played by team.\"\"\"\n",
    "    \n",
    "    temp_df = df[df.Date<=date]\n",
    "    \n",
    "    v1 = temp_df.groupby(['Date','HomeTeam','AwayTeam'],as_index=False)['Quarter'].count()['HomeTeam'].value_counts()\n",
    "    v2 = temp_df.groupby(['Date','HomeTeam','AwayTeam'],as_index=False)['Quarter'].count()['AwayTeam'].value_counts()\n",
    "    \n",
    "    return v1+v2"
   ]
  },
  {
   "cell_type": "markdown",
   "metadata": {},
   "source": [
    "Creating a column that just contains the events we care about will make this easier to work with, rather than the data being kept in multiple columns."
   ]
  },
  {
   "cell_type": "code",
   "execution_count": 3,
   "metadata": {},
   "outputs": [],
   "source": [
    "def make_mmt_columns(df):\n",
    "    \"\"\" 'mmt' column will denote make,miss,turnover for home/away team.\n",
    "    These are the only events we care about in regards to a markov model.\n",
    "    \"\"\"\n",
    "    df.HomePlay=df.HomePlay.astype(str)\n",
    "    df.AwayPlay=df.AwayPlay.astype(str)\n",
    "    \n",
    "    x1 = df.HomePlay.apply(lambda x: 'make 2' if ' makes 2' in x.lower() else '')\n",
    "    x2 = df.HomePlay.apply(lambda x: 'miss 2' if ' misses 2' in x.lower() else '')\n",
    "    x3 = df.HomePlay.apply(lambda x: 'turnover' if 'turnover' in x.lower() else '')\n",
    "    x4 = df.HomePlay.apply(lambda x: 'make 3' if ' makes 3' in x.lower() else '')\n",
    "    x5 = df.HomePlay.apply(lambda x: 'miss 3' if ' misses 3' in x.lower() else '')\n",
    "    x6 = df.HomePlay.apply(lambda x: 'ft make' if 'makes free throw' in x.lower() else '')\n",
    "    x7 = df.HomePlay.apply(lambda x: 'ft miss' if 'misses free throw' in x.lower() else '')\n",
    "    \n",
    "    df['HomeMMT'] = x1+x2+x3+x4+x5+x6+x7\n",
    "    \n",
    "    y1 = df.AwayPlay.apply(lambda x: 'make 2' if ' makes 2' in x.lower() else '')\n",
    "    y2 = df.AwayPlay.apply(lambda x: 'miss 2' if ' misses 2' in x.lower() else '')\n",
    "    y3 = df.AwayPlay.apply(lambda x: 'turnover' if 'turnover' in x.lower() else '')\n",
    "    y4 = df.AwayPlay.apply(lambda x: 'make 3' if ' makes 3' in x.lower() else '')\n",
    "    y5 = df.AwayPlay.apply(lambda x: 'miss 3' if ' misses 3' in x.lower() else '')\n",
    "    y6 = df.AwayPlay.apply(lambda x: 'ft make' if 'makes free throw' in x.lower() else '')\n",
    "    y7 = df.AwayPlay.apply(lambda x: 'ft miss' if 'misses free throw' in x.lower() else '')\n",
    "    \n",
    "    \n",
    "    df['AwayMMT'] = y1+y2+y3+y4+y5+y6+y7\n",
    "    \n",
    "    \n",
    "    return df"
   ]
  },
  {
   "cell_type": "markdown",
   "metadata": {},
   "source": [
    "We can build our sequences. We can just keep a list of the events that happened in the order that they happened, and chunk that up as we wish. "
   ]
  },
  {
   "cell_type": "code",
   "execution_count": 4,
   "metadata": {},
   "outputs": [],
   "source": [
    "events_clean=['make 2','miss 2','turnover','make 3','miss 3','ft miss','ft make']\n",
    "\n",
    "def create_game_sequences(df,team,events_clean=events_clean):\n",
    "    tempdfH = df[df.HomeTeam ==team]\n",
    "    tempdfA = df[df.AwayTeam ==team]\n",
    "    \n",
    "    home_sequences = list(tempdfH.groupby('GameID')['HomeMMT'].apply(list))\n",
    "    away_sequences = list(tempdfA.groupby('GameID')['AwayMMT'].apply(list))\n",
    "    \n",
    "    #home\n",
    "    for idx,game in enumerate(home_sequences):\n",
    "        game_cleaned=[]\n",
    "        for event in game:\n",
    "            if event in events_clean:\n",
    "                game_cleaned.append(event)\n",
    "        home_sequences[idx]=game_cleaned\n",
    "    \n",
    "    #away\n",
    "    for idx,game in enumerate(away_sequences):\n",
    "        game_cleaned=[]\n",
    "        for event in game:\n",
    "            if event in events_clean:\n",
    "                game_cleaned.append(event)\n",
    "        away_sequences[idx]=game_cleaned\n",
    "        \n",
    "    \n",
    "        \n",
    "    return home_sequences,away_sequences"
   ]
  },
  {
   "cell_type": "markdown",
   "metadata": {},
   "source": [
    "Chunk up our sequences into whatever size we may want. Build a dictionary of these sequences with the last event being the key of our inner dictionary."
   ]
  },
  {
   "cell_type": "code",
   "execution_count": 5,
   "metadata": {},
   "outputs": [],
   "source": [
    "def split_sequences(sequences,group_size=3):\n",
    "    splits=[]\n",
    "    for seq in sequences:\n",
    "        for i in range(len(seq)-(group_size-1)):\n",
    "            split=tuple(seq[i:i+group_size])\n",
    "            splits.append(split)\n",
    "    \n",
    "    return splits\n",
    "\n",
    "def team_sequence_dict(sequences,group_size=4):\n",
    "    \"\"\"\n",
    "    Create a dictionary where keys are sequences of length 'group_size-1',values are dictionaries.\n",
    "    Keys of inner dictionary is next event in sequence, value is number of occurrences.\n",
    "    \"\"\"\n",
    "    team_dict={}\n",
    "    for k,v in Counter(split_sequences(sequences,group_size=group_size)).items():\n",
    "        team_dict[k[:group_size-1]] = defaultdict(int)\n",
    "\n",
    "    for k,v in Counter(split_sequences(sequences,group_size=group_size)).items():\n",
    "        team_dict[k[:group_size-1]][k[group_size-1]]=v\n",
    "        \n",
    "    return team_dict"
   ]
  },
  {
   "cell_type": "code",
   "execution_count": 6,
   "metadata": {},
   "outputs": [],
   "source": [
    "def todays_games(df,date):\n",
    "    \"\"\"\n",
    "    Returned games will be of the form [(home team, away team),...]\n",
    "    Date should be of the form yyyy-mm-dd.\n",
    "    \"\"\"\n",
    "    \n",
    "    today = df[df.Date==date][['HomeTeam','AwayTeam']].drop_duplicates()\n",
    "    todays_games = list(zip(today.HomeTeam,today.AwayTeam))\n",
    "    \n",
    "    return todays_games"
   ]
  },
  {
   "cell_type": "code",
   "execution_count": 7,
   "metadata": {},
   "outputs": [],
   "source": [
    "def teams_past_games(df,team,date):\n",
    "    \n",
    "    team_df = df[(df.Date<date)]\n",
    "    \n",
    "    team_df = df[(df.HomeTeam==team) | (df.AwayTeam==team)]\n",
    "    \n",
    "    return team_df"
   ]
  },
  {
   "cell_type": "code",
   "execution_count": 8,
   "metadata": {},
   "outputs": [],
   "source": [
    "def get_first_half(df,home,away,date):\n",
    "    temp_df = df[df.Date == date]\n",
    "    temp_df = temp_df[(temp_df.HomeTeam==home) | (temp_df.AwayTeam==away)]\n",
    "    temp_df = temp_df[(temp_df.Quarter==1) | (temp_df.Quarter==2)]\n",
    "    home_score = temp_df.iloc[-1]['HomeScore']\n",
    "    away_score = temp_df.iloc[-1]['AwayScore']\n",
    "    temp_df = make_mmt_columns(temp_df)\n",
    "\n",
    "    \n",
    "    return temp_df,home_score,away_score"
   ]
  },
  {
   "cell_type": "code",
   "execution_count": 9,
   "metadata": {},
   "outputs": [],
   "source": [
    "def get_second_half(df,home,away,date):\n",
    "    temp_df = df[df.Date == date]\n",
    "    temp_df = temp_df[(temp_df.HomeTeam==home) | (temp_df.AwayTeam==away)]\n",
    "    temp_df = temp_df[(temp_df.Quarter==3) | (temp_df.Quarter==4)]\n",
    "    home_score = temp_df.iloc[-1]['HomeScore']\n",
    "    away_score = temp_df.iloc[-1]['AwayScore']\n",
    "    temp_df = make_mmt_columns(temp_df)\n",
    "\n",
    "    \n",
    "    return temp_df,home_score,away_score"
   ]
  },
  {
   "cell_type": "code",
   "execution_count": 10,
   "metadata": {},
   "outputs": [],
   "source": [
    "def number_possesions_change(df,date):\n",
    "    temp_df=df[df.Date < date]\n",
    "    all_teams = set(list(temp_df.HomeTeam.unique())+list(temp_df.AwayTeam.unique()))\n",
    "    \n",
    "    change_dict={}\n",
    "    \n",
    "    for team in all_teams:\n",
    "        team_df=temp_df[(temp_df.HomeTeam==team) | (temp_df.HomeTeam==team)]\n",
    "        team_df1 = team_df[(team_df.Quarter==1) | (team_df.Quarter==2)]\n",
    "        team_df2 = team_df[(team_df.Quarter==3) | (team_df.Quarter==4)]\n",
    "        \n",
    "        home1,away1 = create_game_sequences(team_df1,team,events_clean=events_clean)\n",
    "        home2,away2 = create_game_sequences(team_df2,team,events_clean=events_clean)\n",
    "        \n",
    "        home1_num_poss = [len(game) for game in home1]\n",
    "        home2_num_poss = [len(game) for game in home2]\n",
    "        away1_num_poss = [len(game) for game in away1]\n",
    "        away2_num_poss = [len(game) for game in away2]\n",
    "        \n",
    "        change_home = [len(second)-len(first) for first,second in zip(home1,home2)]\n",
    "        change_away = [len(second)-len(first) for first,second in zip(away1,away2)]\n",
    "        \n",
    "        change = change_home+change_away\n",
    "\n",
    "        mean = np.mean(change)\n",
    "        std = np.std(change)\n",
    "                      \n",
    "        change_dict[team]={'mean':mean,'std':std}\n",
    "                      \n",
    "    return change_dict"
   ]
  },
  {
   "cell_type": "code",
   "execution_count": 11,
   "metadata": {},
   "outputs": [],
   "source": [
    "def score(counts):\n",
    "    score=0\n",
    "    score+=counts['make 3']*3\n",
    "    score+=counts['make 2']*2\n",
    "    score+=counts['ft make']\n",
    "    \n",
    "    return score"
   ]
  },
  {
   "cell_type": "code",
   "execution_count": 12,
   "metadata": {},
   "outputs": [],
   "source": [
    "df= make_mmt_columns(df)"
   ]
  },
  {
   "cell_type": "code",
   "execution_count": 138,
   "metadata": {
    "scrolled": true
   },
   "outputs": [
    {
     "name": "stdout",
     "output_type": "stream",
     "text": [
      "incorrect\n",
      "DEN home predicted 142.638| home actual 112   |win prob= 0.818\n",
      "NOP away predicted 129.13| away actual 120  |halftime diff 4\n",
      "\n",
      "win\n",
      "UTA home predicted 115.988| home actual 115   |win prob= 0.8\n",
      "MIL away predicted 102.724| away actual 111  |halftime diff 7\n",
      "\n",
      "win\n",
      "MIA home predicted 104.586| home actual 117   |win prob= 0.903\n",
      "BRK away predicted 87.188| away actual 88  |halftime diff 10\n",
      "\n",
      "win\n",
      "DAL home predicted 109.509| home actual 81   |win prob= 0.875\n",
      "MEM away predicted 125.533| away actual 111  |halftime diff 13\n",
      "\n",
      "incorrect\n",
      "PHI home predicted 127.356| home actual 117   |win prob= 0.742\n",
      "GSW away predicted 117.947| away actual 120  |halftime diff 12\n",
      "\n",
      "incorrect\n",
      "IND home predicted 113.081| home actual 112   |win prob= 0.556\n",
      "ORL away predicted 110.482| away actual 117  |halftime diff 5\n",
      "\n",
      "win\n",
      "SAS home predicted 139.071| home actual 116   |win prob= 0.835\n",
      "OKC away predicted 125.62| away actual 102  |halftime diff 9\n",
      "\n",
      "win\n",
      "CLE home predicted 91.143| home actual 93   |win prob= 0.999\n",
      "DET away predicted 134.84| away actual 129  |halftime diff 33\n",
      "\n",
      "win\n",
      "PHO home predicted 123.294| home actual 118   |win prob= 0.604\n",
      "LAL away predicted 119.319| away actual 109  |halftime diff 7\n",
      "\n",
      "win\n",
      "CLE home predicted 98.88| home actual 107   |win prob= 0.701\n",
      "ORL away predicted 91.462| away actual 93  |halftime diff 4\n",
      "\n",
      "incorrect\n",
      "OKC home predicted 101.844| home actual 99   |win prob= 0.5409999999999999\n",
      "MEM away predicted 102.633| away actual 95  |halftime diff 6\n",
      "\n",
      "win\n",
      "DET home predicted 101.236| home actual 112   |win prob= 0.638\n",
      "TOR away predicted 95.243| away actual 107  |halftime diff 3\n",
      "\n",
      "win\n",
      "LAC home predicted 145.39| home actual 128   |win prob= 1.0\n",
      "NYK away predicted 100.951| away actual 107  |halftime diff 36\n",
      "\n",
      "incorrect\n",
      "WAS home predicted 125.459| home actual 135   |win prob= 0.5680000000000001\n",
      "MIN away predicted 127.391| away actual 121  |halftime diff 2\n",
      "\n",
      "win\n",
      "BOS home predicted 98.263| home actual 104   |win prob= 0.95\n",
      "HOU away predicted 121.539| away actual 115  |halftime diff 22\n",
      "\n",
      "win\n",
      "CHI home predicted 114.206| home actual 118   |win prob= 0.771\n",
      "ATL away predicted 124.327| away actual 123  |halftime diff 7\n",
      "\n",
      "win\n",
      "CHO home predicted 105.446| home actual 108   |win prob= 0.62\n",
      "POR away predicted 109.195| away actual 118  |halftime diff 6\n",
      "\n",
      "win\n",
      "SAS home predicted 114.957| home actual 104   |win prob= 0.759\n",
      "DEN away predicted 104.7| away actual 103  |halftime diff 10\n",
      "\n",
      "incorrect\n",
      "UTA home predicted 119.368| home actual 112   |win prob= 0.673\n",
      "NOP away predicted 111.77| away actual 115  |halftime diff 9\n",
      "\n",
      "win\n",
      "PHO home predicted 110.987| home actual 114   |win prob= 0.822\n",
      "MIL away predicted 97.988| away actual 105  |halftime diff 2\n",
      "\n",
      "win\n",
      "SAC home predicted 111.474| home actual 115   |win prob= 0.796\n",
      "NYK away predicted 100.343| away actual 108  |halftime diff 4\n",
      "\n",
      "win\n",
      "LAL home predicted 118.86| home actual 105   |win prob= 0.645\n",
      "LAC away predicted 123.216| away actual 113  |halftime diff 4\n",
      "\n",
      "win\n",
      "MIA home predicted 115.66| home actual 114   |win prob= 0.509\n",
      "ATL away predicted 115.331| away actual 113  |halftime diff 0\n",
      "\n",
      "win\n",
      "BRK home predicted 120.209| home actual 127   |win prob= 0.976\n",
      "DAL away predicted 91.773| away actual 88  |halftime diff 18\n",
      "\n",
      "win\n",
      "GSW home predicted 107.204| home actual 95   |win prob= 0.982\n",
      "BOS away predicted 132.276| away actual 128  |halftime diff 25\n",
      "\n",
      "win\n",
      "TOR home predicted 94.281| home actual 95   |win prob= 0.861\n",
      "HOU away predicted 113.641| away actual 107  |halftime diff 18\n",
      "\n",
      "win\n",
      "MEM home predicted 115.613| home actual 120   |win prob= 0.671\n",
      "POR away predicted 109.199| away actual 111  |halftime diff 2\n",
      "\n",
      "win\n",
      "MIN home predicted 129.822| home actual 131   |win prob= 0.79\n",
      "OKC away predicted 117.665| away actual 120  |halftime diff 14\n",
      "\n",
      "win\n",
      "PHI home predicted 120.152| home actual 114   |win prob= 0.687\n",
      "ORL away predicted 112.815| away actual 106  |halftime diff 6\n",
      "\n",
      "win\n",
      "IND home predicted 107.426| home actual 105   |win prob= 0.899\n",
      "CHI away predicted 90.369| away actual 96  |halftime diff 7\n",
      "\n",
      "incorrect\n",
      "CHO home predicted 98.022| home actual 84   |win prob= 0.649\n",
      "MIA away predicted 91.39| away actual 91  |halftime diff 0\n",
      "\n",
      "win\n",
      "WAS home predicted 128.398| home actual 132   |win prob= 0.621\n",
      "DAL away predicted 123.387| away actual 123  |halftime diff 4\n",
      "\n",
      "win\n",
      "BRK home predicted 111.914| home actual 113   |win prob= 0.746\n",
      "CLE away predicted 102.585| away actual 107  |halftime diff 5\n",
      "\n",
      "win\n",
      "PHO home predicted 105.882| home actual 107   |win prob= 0.82\n",
      "NYK away predicted 93.108| away actual 96  |halftime diff 2\n",
      "\n",
      "incorrect\n",
      "ATL home predicted 110.594| home actual 104   |win prob= 0.647\n",
      "SAS away predicted 104.556| away actual 111  |halftime diff 3\n",
      "\n",
      "incorrect\n",
      "DET home predicted 113.16| home actual 131   |win prob= 0.659\n",
      "MIN away predicted 117.664| away actual 114  |halftime diff 4\n",
      "\n",
      "win\n",
      "LAL home predicted 101.977| home actual 99   |win prob= 0.931\n",
      "DEN away predicted 120.991| away actual 115  |halftime diff 17\n",
      "\n",
      "win\n",
      "SAC home predicted 97.71| home actual 109   |win prob= 0.5840000000000001\n",
      "BOS away predicted 99.599| away actual 111  |halftime diff 0\n",
      "\n",
      "win\n",
      "NOP home predicted 104.978| home actual 104   |win prob= 0.8180000000000001\n",
      "UTA away predicted 118.487| away actual 114  |halftime diff 11\n",
      "\n",
      "win\n",
      "CHI home predicted 110.211| home actual 108   |win prob= 0.544\n",
      "PHI away predicted 108.198| away actual 107  |halftime diff 0\n",
      "\n",
      "incorrect\n",
      "POR home predicted 127.155| home actual 121   |win prob= 0.764\n",
      "OKC away predicted 116.731| away actual 129  |halftime diff 3\n",
      "\n",
      "win\n",
      "MIL home predicted 111.404| home actual 117   |win prob= 0.838\n",
      "IND away predicted 98.676| away actual 98  |halftime diff 4\n",
      "\n",
      "win\n",
      "MIA home predicted 107.643| home actual 126   |win prob= 0.565\n",
      "CLE away predicted 104.999| away actual 110  |halftime diff 0\n",
      "\n",
      "win\n",
      "MEM home predicted 111.914| home actual 114   |win prob= 0.875\n",
      "UTA away predicted 95.807| away actual 104  |halftime diff 7\n",
      "\n",
      "win\n",
      "LAC home predicted 134.831| home actual 118   |win prob= 0.981\n",
      "OKC away predicted 108.338| away actual 110  |halftime diff 12\n",
      "\n",
      "win\n",
      "GSW home predicted 132.743| home actual 122   |win prob= 0.982\n",
      "DEN away predicted 102.028| away actual 105  |halftime diff 17\n",
      "\n",
      "incorrect\n",
      "CHI home predicted 119.99| home actual 104   |win prob= 0.811\n",
      "DET away predicted 105.448| away actual 112  |halftime diff 17\n",
      "\n",
      "win\n",
      "NOP home predicted 119.377| home actual 104   |win prob= 0.727\n",
      "TOR away predicted 127.917| away actual 127  |halftime diff 3\n",
      "\n",
      "win\n",
      "CHO home predicted 111.712| home actual 112   |win prob= 0.537\n",
      "WAS away predicted 109.414| away actual 111  |halftime diff 1\n",
      "\n",
      "win\n",
      "HOU home predicted 120.988| home actual 107   |win prob= 0.983\n",
      "PHI away predicted 87.689| away actual 91  |halftime diff 15\n",
      "\n",
      "win\n",
      "ORL home predicted 119.305| home actual 111   |win prob= 0.888\n",
      "DAL away predicted 102.717| away actual 106  |halftime diff 15\n",
      "\n",
      "win\n",
      "ATL home predicted 107.818| home actual 112   |win prob= 0.558\n",
      "BRK away predicted 109.113| away actual 114  |halftime diff 9\n",
      "\n",
      "win\n",
      "MIL home predicted 112.535| home actual 131   |win prob= 0.578\n",
      "CHO away predicted 109.128| away actual 114  |halftime diff 4\n",
      "\n",
      "win\n",
      "POR home predicted 128.519| home actual 127   |win prob= 0.969\n",
      "PHO away predicted 100.437| away actual 120  |halftime diff 19\n",
      "\n",
      "win\n",
      "LAL home predicted 99.99| home actual 107   |win prob= 0.933\n",
      "BOS away predicted 119.214| away actual 120  |halftime diff 10\n",
      "\n",
      "incorrect\n",
      "MIN home predicted 117.942| home actual 135   |win prob= 0.817\n",
      "WAS away predicted 130.479| away actual 130  |halftime diff 11\n",
      "\n",
      "win\n",
      "NYK home predicted 105.167| home actual 94   |win prob= 0.5409999999999999\n",
      "SAC away predicted 105.905| away actual 102  |halftime diff 2\n",
      "\n",
      "win\n",
      "PHI home predicted 110.659| home actual 106   |win prob= 0.509\n",
      "IND away predicted 110.302| away actual 89  |halftime diff 8\n",
      "\n",
      "win\n",
      "MIA home predicted 110.846| home actual 104   |win prob= 0.876\n",
      "TOR away predicted 130.019| away actual 125  |halftime diff 14\n",
      "\n",
      "win\n",
      "MEM home predicted 102.478| home actual 105   |win prob= 0.601\n",
      "ORL away predicted 98.334| away actual 97  |halftime diff 1\n",
      "\n",
      "incorrect\n",
      "SAS home predicted 112.337| home actual 121   |win prob= 0.615\n",
      "MIL away predicted 115.148| away actual 114  |halftime diff 6\n",
      "\n",
      "incorrect\n",
      "DAL home predicted 113.539| home actual 93   |win prob= 0.518\n",
      "HOU away predicted 113.412| away actual 94  |halftime diff 4\n",
      "\n",
      "win\n",
      "DET home predicted 110.789| home actual 131   |win prob= 0.802\n",
      "CHI away predicted 98.588| away actual 108  |halftime diff 6\n",
      "\n"
     ]
    },
    {
     "name": "stdout",
     "output_type": "stream",
     "text": [
      "win\n",
      "MIN home predicted 107.43| home actual 103   |win prob= 0.91\n",
      "NYK away predicted 87.392| away actual 92  |halftime diff 10\n",
      "\n",
      "incorrect\n",
      "GSW home predicted 114.738| home actual 111   |win prob= 0.616\n",
      "PHO away predicted 109.995| away actual 115  |halftime diff 1\n",
      "\n",
      "incorrect\n",
      "ATL home predicted 123.076| home actual 128   |win prob= 0.5489999999999999\n",
      "NOP away predicted 124.219| away actual 116  |halftime diff 1\n",
      "\n",
      "win\n",
      "CLE home predicted 119.203| home actual 126   |win prob= 0.575\n",
      "TOR away predicted 115.867| away actual 101  |halftime diff 4\n",
      "\n",
      "win\n",
      "BRK home predicted 118.806| home actual 103   |win prob= 0.997\n",
      "DET away predicted 82.116| away actual 75  |halftime diff 26\n",
      "\n",
      "win\n",
      "HOU home predicted 132.312| home actual 118   |win prob= 0.974\n",
      "CHO away predicted 101.31| away actual 106  |halftime diff 27\n",
      "\n",
      "win\n",
      "UTA home predicted 89.297| home actual 89   |win prob= 0.634\n",
      "OKC away predicted 93.345| away actual 98  |halftime diff 13\n",
      "\n",
      "win\n",
      "LAC home predicted 116.457| home actual 140   |win prob= 0.625\n",
      "BOS away predicted 111.083| away actual 115  |halftime diff 13\n",
      "\n",
      "win\n",
      "WAS home predicted 122.729| home actual 121   |win prob= 0.802\n",
      "SAC away predicted 108.73| away actual 115  |halftime diff 1\n",
      "\n",
      "win\n",
      "DAL home predicted 102.681| home actual 105   |win prob= 0.8220000000000001\n",
      "SAS away predicted 114.184| away actual 112  |halftime diff 7\n",
      "\n",
      "win\n",
      "IND home predicted 113.015| home actual 103   |win prob= 0.814\n",
      "NYK away predicted 101.129| away actual 98  |halftime diff 3\n",
      "\n",
      "win\n",
      "PHI home predicted 106.005| home actual 106   |win prob= 0.618\n",
      "CLE away predicted 101.047| away actual 99  |halftime diff 6\n",
      "\n",
      "win\n",
      "DEN home predicted 115.529| home actual 133   |win prob= 0.849\n",
      "MIN away predicted 100.16| away actual 107  |halftime diff 10\n",
      "\n",
      "win\n",
      "CHI home predicted 109.263| home actual 107   |win prob= 0.5780000000000001\n",
      "LAL away predicted 111.277| away actual 123  |halftime diff 5\n",
      "\n",
      "win\n",
      "LAC home predicted 111.804| home actual 104   |win prob= 0.5840000000000001\n",
      "POR away predicted 114.877| away actual 125  |halftime diff 2\n",
      "\n",
      "win\n",
      "NOP home predicted 110.733| home actual 113   |win prob= 0.79\n",
      "MIL away predicted 122.55| away actual 130  |halftime diff 8\n",
      "\n",
      "incorrect\n",
      "OKC home predicted 96.117| home actual 108   |win prob= 0.648\n",
      "BRK away predicted 100.129| away actual 96  |halftime diff 10\n",
      "\n",
      "win\n",
      "PHO home predicted 93.615| home actual 97   |win prob= 0.893\n",
      "UTA away predicted 110.402| away actual 114  |halftime diff 10\n",
      "\n",
      "win\n",
      "MIA home predicted 104.176| home actual 108   |win prob= 0.597\n",
      "DET away predicted 99.439| away actual 74  |halftime diff 5\n",
      "\n",
      "win\n",
      "WAS home predicted 115.99| home actual 100   |win prob= 0.828\n",
      "ORL away predicted 103.625| away actual 90  |halftime diff 8\n",
      "\n",
      "win\n",
      "ATL home predicted 130.645| home actual 132   |win prob= 0.796\n",
      "MEM away predicted 118.63| away actual 111  |halftime diff 12\n",
      "\n",
      "incorrect\n",
      "HOU home predicted 105.699| home actual 104   |win prob= 0.631\n",
      "GSW away predicted 100.637| away actual 106  |halftime diff 2\n",
      "\n",
      "win\n",
      "DEN home predicted 106.51| home actual 100   |win prob= 0.504\n",
      "DAL away predicted 106.309| away actual 99  |halftime diff 6\n",
      "\n",
      "win\n",
      "UTA home predicted 118.472| home actual 120   |win prob= 0.863\n",
      "MIN away predicted 101.593| away actual 100  |halftime diff 9\n",
      "\n",
      "incorrect\n",
      "IND home predicted 110.691| home actual 108   |win prob= 0.724\n",
      "OKC away predicted 117.527| away actual 106  |halftime diff 13\n",
      "\n",
      "win\n",
      "ORL home predicted 112.515| home actual 120   |win prob= 0.977\n",
      "CLE away predicted 86.191| away actual 91  |halftime diff 20\n",
      "\n",
      "incorrect\n",
      "BOS home predicted 118.049| home actual 126   |win prob= 0.778\n",
      "SAC away predicted 129.056| away actual 120  |halftime diff 6\n",
      "\n",
      "win\n",
      "TOR home predicted 133.637| home actual 111   |win prob= 0.931\n",
      "LAL away predicted 110.772| away actual 98  |halftime diff 11\n",
      "\n",
      "win\n",
      "PHI home predicted 123.798| home actual 123   |win prob= 0.656\n",
      "SAC away predicted 117.933| away actual 114  |halftime diff 4\n",
      "\n",
      "incorrect\n",
      "LAC home predicted 116.798| home actual 128   |win prob= 0.615\n",
      "CHI away predicted 120.919| away actual 121  |halftime diff 6\n",
      "\n",
      "win\n",
      "SAS home predicted 109.666| home actual 109   |win prob= 0.985\n",
      "NYK away predicted 81.977| away actual 83  |halftime diff 15\n",
      "\n",
      "win\n",
      "DET home predicted 102.019| home actual 111   |win prob= 0.878\n",
      "LAL away predicted 85.706| away actual 97  |halftime diff 6\n",
      "\n",
      "incorrect\n",
      "MIA home predicted 117.176| home actual 98   |win prob= 0.952\n",
      "MIL away predicted 91.624| away actual 113  |halftime diff 20\n",
      "\n",
      "incorrect\n",
      "NOP home predicted 119.386| home actual 110   |win prob= 0.72\n",
      "POR away predicted 111.112| away actual 122  |halftime diff 1\n",
      "\n",
      "win\n",
      "HOU home predicted 121.347| home actual 108   |win prob= 0.784\n",
      "PHO away predicted 109.111| away actual 102  |halftime diff 2\n",
      "\n",
      "win\n",
      "WAS home predicted 114.826| home actual 110   |win prob= 0.834\n",
      "CHO away predicted 128.518| away actual 116  |halftime diff 13\n",
      "\n",
      "win\n",
      "OKC home predicted 100.699| home actual 88   |win prob= 0.921\n",
      "GSW away predicted 118.554| away actual 110  |halftime diff 18\n",
      "\n",
      "win\n",
      "SAS home predicted 102.373| home actual 108   |win prob= 0.522\n",
      "POR away predicted 101.491| away actual 103  |halftime diff 2\n",
      "\n",
      "win\n",
      "DEN home predicted 111.893| home actual 102   |win prob= 0.761\n",
      "IND away predicted 102.796| away actual 100  |halftime diff 3\n",
      "\n",
      "incorrect\n",
      "NOP home predicted 126.654| home actual 136   |win prob= 0.516\n",
      "PHO away predicted 126.171| away actual 138  |halftime diff 6\n",
      "\n",
      "win\n",
      "BOS home predicted 138.744| home actual 129   |win prob= 0.913\n",
      "ATL away predicted 117.179| away actual 120  |halftime diff 12\n",
      "\n",
      "win\n",
      "DAL home predicted 118.147| home actual 121   |win prob= 0.511\n",
      "CLE away predicted 117.578| away actual 116  |halftime diff 9\n",
      "\n",
      "win\n",
      "UTA home predicted 117.791| home actual 114   |win prob= 0.966\n",
      "BRK away predicted 91.448| away actual 98  |halftime diff 17\n",
      "\n",
      "incorrect\n",
      "WAS home predicted 129.41| home actual 135   |win prob= 0.596\n",
      "MEM away predicted 132.264| away actual 128  |halftime diff 2\n",
      "\n",
      "win\n",
      "MIL home predicted 116.071| home actual 125   |win prob= 0.562\n",
      "PHI away predicted 118.41| away actual 130  |halftime diff 9\n",
      "\n",
      "win\n",
      "DET home predicted 100.497| home actual 110   |win prob= 0.664\n",
      "TOR away predicted 93.956| away actual 107  |halftime diff 3\n",
      "\n",
      "win\n",
      "ORL home predicted 115.437| home actual 101   |win prob= 0.909\n",
      "ATL away predicted 96.587| away actual 91  |halftime diff 10\n",
      "\n",
      "win\n",
      "LAC home predicted 121.262| home actual 119   |win prob= 0.828\n",
      "BRK away predicted 108.005| away actual 116  |halftime diff 5\n",
      "\n",
      "win\n",
      "HOU home predicted 108.522| home actual 117   |win prob= 0.812\n",
      "MIN away predicted 95.153| away actual 102  |halftime diff 1\n",
      "\n",
      "win\n",
      "SAC home predicted 113.38| home actual 129   |win prob= 0.951\n",
      "CHI away predicted 90.45| away actual 102  |halftime diff 16\n",
      "\n",
      "incorrect\n",
      "NYK home predicted 122.39| home actual 124   |win prob= 0.6579999999999999\n",
      "LAL away predicted 127.823| away actual 123  |halftime diff 3\n",
      "\n",
      "win\n",
      "MIA home predicted 92.029| home actual 93   |win prob= 0.695\n",
      "CHO away predicted 84.218| away actual 75  |halftime diff 0\n",
      "\n",
      "win\n",
      "BOS home predicted 110.574| home actual 105   |win prob= 0.618\n",
      "DEN away predicted 113.733| away actual 114  |halftime diff 3\n",
      "\n",
      "incorrect\n",
      "CLE home predicted 116.124| home actual 126   |win prob= 0.756\n",
      "DET away predicted 126.697| away actual 119  |halftime diff 1\n",
      "\n",
      "win\n",
      "POR home predicted 109.765| home actual 106   |win prob= 0.753\n",
      "IND away predicted 100.513| away actual 98  |halftime diff 7\n",
      "\n",
      "win\n",
      "WAS home predicted 94.911| home actual 95   |win prob= 0.895\n",
      "UTA away predicted 112.505| away actual 116  |halftime diff 12\n",
      "\n",
      "win\n",
      "OKC home predicted 109.983| home actual 107   |win prob= 0.718\n",
      "MIA away predicted 118.221| away actual 116  |halftime diff 3\n",
      "\n",
      "win\n",
      "SAS home predicted 112.97| home actual 111   |win prob= 0.888\n",
      "GSW away predicted 96.672| away actual 105  |halftime diff 11\n",
      "\n",
      "win\n",
      "PHO home predicted 94.555| home actual 101   |win prob= 0.863\n",
      "CHI away predicted 107.757| away actual 116  |halftime diff 13\n",
      "\n",
      "incorrect\n",
      "DAL home predicted 117.51| home actual 125   |win prob= 0.766\n",
      "NOP away predicted 106.583| away actual 129  |halftime diff 10\n",
      "\n",
      "win\n",
      "TOR home predicted 134.707| home actual 128   |win prob= 0.983\n",
      "NYK away predicted 103.194| away actual 92  |halftime diff 19\n",
      "\n",
      "incorrect\n",
      "CHO home predicted 116.937| home actual 114   |win prob= 0.526\n",
      "PHI away predicted 115.304| away actual 118  |halftime diff 3\n",
      "\n",
      "win\n",
      "ATL home predicted 103.936| home actual 105   |win prob= 0.791\n",
      "HOU away predicted 117.187| away actual 121  |halftime diff 6\n",
      "\n"
     ]
    },
    {
     "name": "stdout",
     "output_type": "stream",
     "text": [
      "win\n",
      "LAC home predicted 115.413| home actual 115   |win prob= 0.714\n",
      "IND away predicted 107.702| away actual 109  |halftime diff 6\n",
      "\n",
      "win\n",
      "MIL home predicted 126.37| home actual 115   |win prob= 0.844\n",
      "LAL away predicted 110.726| away actual 101  |halftime diff 3\n",
      "\n",
      "win\n",
      "MIN home predicted 102.983| home actual 107   |win prob= 0.791\n",
      "GSW away predicted 114.285| away actual 117  |halftime diff 12\n",
      "\n",
      "incorrect\n",
      "SAC home predicted 129.24| home actual 121   |win prob= 0.78\n",
      "BRK away predicted 117.096| away actual 123  |halftime diff 8\n",
      "\n",
      "incorrect\n",
      "CHI home predicted 111.717| home actual 126   |win prob= 0.638\n",
      "WAS away predicted 116.166| away actual 120  |halftime diff 0\n",
      "\n",
      "win\n",
      "POR home predicted 123.602| home actual 126   |win prob= 0.85\n",
      "DAL away predicted 107.723| away actual 118  |halftime diff 13\n",
      "\n",
      "win\n",
      "CLE home predicted 112.865| home actual 107   |win prob= 0.804\n",
      "MIL away predicted 100.267| away actual 102  |halftime diff 11\n",
      "\n",
      "win\n",
      "MEM home predicted 116.813| home actual 126   |win prob= 0.658\n",
      "HOU away predicted 110.211| away actual 125  |halftime diff 10\n",
      "\n",
      "win\n",
      "SAS home predicted 106.036| home actual 105   |win prob= 0.9\n",
      "MIA away predicted 122.256| away actual 110  |halftime diff 15\n",
      "\n",
      "win\n",
      "ORL home predicted 130.743| home actual 119   |win prob= 0.989\n",
      "NOP away predicted 97.857| away actual 96  |halftime diff 22\n",
      "\n",
      "win\n",
      "NYK home predicted 96.285| home actual 116   |win prob= 0.998\n",
      "UTA away predicted 137.522| away actual 137  |halftime diff 27\n",
      "\n",
      "win\n",
      "OKC home predicted 109.462| home actual 114   |win prob= 0.789\n",
      "TOR away predicted 122.134| away actual 123  |halftime diff 8\n",
      "\n",
      "incorrect\n",
      "PHI home predicted 121.755| home actual 118   |win prob= 0.819\n",
      "BOS away predicted 134.016| away actual 115  |halftime diff 11\n",
      "\n",
      "win\n",
      "GSW home predicted 112.268| home actual 112   |win prob= 0.949\n",
      "IND away predicted 90.352| away actual 89  |halftime diff 10\n",
      "\n",
      "win\n",
      "SAC home predicted 110.69| home actual 116   |win prob= 0.772\n",
      "DAL away predicted 99.6| away actual 100  |halftime diff 2\n",
      "\n",
      "win\n",
      "CHO home predicted 118.639| home actual 113   |win prob= 0.796\n",
      "MIN away predicted 107.407| away actual 106  |halftime diff 3\n",
      "\n",
      "win\n",
      "ATL home predicted 121.221| home actual 117   |win prob= 0.853\n",
      "UTA away predicted 106.085| away actual 114  |halftime diff 11\n",
      "\n",
      "win\n",
      "WAS home predicted 102.532| home actual 108   |win prob= 0.882\n",
      "DEN away predicted 118.006| away actual 113  |halftime diff 8\n",
      "\n",
      "incorrect\n",
      "PHO home predicted 120.867| home actual 98   |win prob= 0.55\n",
      "DET away predicted 118.827| away actual 118  |halftime diff 2\n",
      "\n",
      "win\n",
      "MIL home predicted 117.841| home actual 116   |win prob= 0.946\n",
      "MIA away predicted 94.653| away actual 87  |halftime diff 12\n",
      "\n",
      "win\n",
      "CLE home predicted 110.485| home actual 108   |win prob= 0.585\n",
      "LAC away predicted 113.795| away actual 110  |halftime diff 2\n",
      "\n",
      "win\n",
      "LAL home predicted 99.022| home actual 106   |win prob= 0.5609999999999999\n",
      "BRK away predicted 100.584| away actual 111  |halftime diff 1\n",
      "\n",
      "win\n",
      "HOU home predicted 124.115| home actual 111   |win prob= 0.923\n",
      "SAS away predicted 103.28| away actual 105  |halftime diff 15\n",
      "\n",
      "win\n",
      "NYK home predicted 96.392| home actual 93   |win prob= 0.921\n",
      "DEN away predicted 113.865| away actual 111  |halftime diff 14\n",
      "\n",
      "incorrect\n",
      "ORL home predicted 115.282| home actual 123   |win prob= 0.548\n",
      "MEM away predicted 116.96| away actual 119  |halftime diff 6\n",
      "\n",
      "incorrect\n",
      "TOR home predicted 111.5| home actual 109   |win prob= 0.769\n",
      "OKC away predicted 100.336| away actual 116  |halftime diff 10\n",
      "\n",
      "win\n",
      "GSW home predicted 102.862| home actual 91   |win prob= 0.979\n",
      "DAL away predicted 132.732| away actual 126  |halftime diff 28\n",
      "\n",
      "incorrect\n",
      "MEM home predicted 109.966| home actual 99   |win prob= 0.589\n",
      "MIN away predicted 106.169| away actual 112  |halftime diff 1\n",
      "\n",
      "incorrect\n",
      "WAS home predicted 110.843| home actual 108   |win prob= 0.659\n",
      "MIA away predicted 105.379| away actual 113  |halftime diff 1\n",
      "\n",
      "win\n",
      "SAC home predicted 107.664| home actual 112   |win prob= 0.54\n",
      "PHO away predicted 105.154| away actual 103  |halftime diff 6\n",
      "\n",
      "win\n",
      "ATL home predicted 136.819| home actual 129   |win prob= 0.792\n",
      "PHI away predicted 125.053| away actual 127  |halftime diff 6\n",
      "\n",
      "incorrect\n",
      "POR home predicted 111.155| home actual 117   |win prob= 0.6759999999999999\n",
      "DET away predicted 116.912| away actual 112  |halftime diff 3\n",
      "\n",
      "win\n",
      "CHI home predicted 91.313| home actual 83   |win prob= 0.996\n",
      "UTA away predicted 129.737| away actual 114  |halftime diff 34\n",
      "\n",
      "incorrect\n",
      "CHO home predicted 117.098| home actual 124   |win prob= 0.647\n",
      "BOS away predicted 121.853| away actual 117  |halftime diff 1\n",
      "\n",
      "win\n",
      "IND home predicted 118.687| home actual 124   |win prob= 0.978\n",
      "DEN away predicted 90.917| away actual 88  |halftime diff 16\n",
      "\n",
      "win\n",
      "LAL home predicted 107.063| home actual 111   |win prob= 0.559\n",
      "SAC away predicted 104.625| away actual 106  |halftime diff 1\n",
      "\n",
      "win\n",
      "NYK home predicted 117.616| home actual 113   |win prob= 0.641\n",
      "LAC away predicted 123.187| away actual 124  |halftime diff 1\n",
      "\n",
      "win\n",
      "MIL home predicted 124.119| home actual 127   |win prob= 0.962\n",
      "CLE away predicted 101.378| away actual 105  |halftime diff 13\n",
      "\n",
      "win\n",
      "GSW home predicted 113.506| home actual 121   |win prob= 0.755\n",
      "DET away predicted 104.151| away actual 114  |halftime diff 14\n",
      "\n",
      "incorrect\n",
      "TOR home predicted 114.308| home actual 114   |win prob= 0.502\n",
      "CHO away predicted 113.786| away actual 115  |halftime diff 1\n",
      "\n",
      "win\n",
      "NOP home predicted 96.343| home actual 90   |win prob= 0.923\n",
      "HOU away predicted 117.27| away actual 113  |halftime diff 19\n",
      "\n",
      "win\n",
      "BOS home predicted 104.411| home actual 96   |win prob= 0.772\n",
      "SAS away predicted 113.537| away actual 115  |halftime diff 7\n",
      "\n",
      "win\n",
      "ORL home predicted 113.256| home actual 119   |win prob= 0.504\n",
      "PHI away predicted 112.916| away actual 98  |halftime diff 3\n",
      "\n",
      "win\n",
      "UTA home predicted 118.546| home actual 125   |win prob= 0.984\n",
      "PHO away predicted 88.539| away actual 92  |halftime diff 19\n",
      "\n",
      "win\n",
      "MEM home predicted 113.614| home actual 115   |win prob= 0.706\n",
      "OKC away predicted 104.56| away actual 103  |halftime diff 6\n",
      "\n",
      "win\n",
      "POR home predicted 118.065| home actual 148   |win prob= 0.605\n",
      "BRK away predicted 114.502| away actual 144  |halftime diff 0\n",
      "\n",
      "win\n",
      "DEN home predicted 127.485| home actual 95   |win prob= 0.989\n",
      "DET away predicted 88.657| away actual 92  |halftime diff 27\n",
      "\n",
      "win\n",
      "MIN home predicted 115.01| home actual 111   |win prob= 0.9359999999999999\n",
      "LAC away predicted 137.787| away actual 122  |halftime diff 20\n",
      "\n",
      "win\n",
      "TOR home predicted 114.551| home actual 112   |win prob= 0.965\n",
      "CHI away predicted 89.524| away actual 103  |halftime diff 15\n",
      "\n",
      "win\n",
      "NOP home predicted 121.426| home actual 120   |win prob= 0.839\n",
      "ATL away predicted 137.561| away actual 130  |halftime diff 13\n",
      "\n",
      "win\n",
      "DAL home predicted 112.464| home actual 121   |win prob= 0.569\n",
      "SAC away predicted 114.438| away actual 125  |halftime diff 2\n",
      "\n",
      "win\n",
      "CLE home predicted 103.547| home actual 106   |win prob= 0.8089999999999999\n",
      "BOS away predicted 114.532| away actual 116  |halftime diff 6\n",
      "\n",
      "incorrect\n",
      "MIA home predicted 103.525| home actual 99   |win prob= 0.795\n",
      "ORL away predicted 90.271| away actual 104  |halftime diff 9\n",
      "\n",
      "win\n",
      "MIL home predicted 116.621| home actual 108   |win prob= 0.717\n",
      "HOU away predicted 107.52| away actual 94  |halftime diff 5\n",
      "\n",
      "win\n",
      "CHO home predicted 110.496| home actual 125   |win prob= 0.518\n",
      "SAS away predicted 108.878| away actual 116  |halftime diff 4\n",
      "\n",
      "win\n",
      "LAL home predicted 126.053| home actual 124   |win prob= 0.882\n",
      "WAS away predicted 110.002| away actual 106  |halftime diff 11\n",
      "\n",
      "incorrect\n",
      "OKC home predicted 96.189| home actual 107   |win prob= 0.75\n",
      "IND away predicted 104.972| away actual 99  |halftime diff 9\n",
      "\n",
      "win\n",
      "MEM home predicted 111.362| home actual 103   |win prob= 0.724\n",
      "GSW away predicted 121.212| away actual 118  |halftime diff 6\n",
      "\n",
      "win\n",
      "UTA home predicted 116.883| home actual 115   |win prob= 0.939\n",
      "LAL away predicted 94.0| away actual 100  |halftime diff 7\n",
      "\n",
      "incorrect\n",
      "PHO home predicted 123.98| home actual 121   |win prob= 0.515\n",
      "WAS away predicted 123.692| away actual 124  |halftime diff 0\n",
      "\n",
      "win\n",
      "CHI home predicted 91.666| home actual 98   |win prob= 0.944\n",
      "POR away predicted 113.387| away actual 118  |halftime diff 18\n",
      "\n",
      "incorrect\n",
      "SAS home predicted 96.031| home actual 116   |win prob= 0.73\n",
      "CLE away predicted 103.112| away actual 110  |halftime diff 9\n",
      "\n",
      "incorrect\n",
      "MIA home predicted 103.541| home actual 105   |win prob= 0.626\n",
      "DAL away predicted 108.797| away actual 99  |halftime diff 10\n",
      "\n"
     ]
    },
    {
     "name": "stdout",
     "output_type": "stream",
     "text": [
      "win\n",
      "NYK home predicted 90.788| home actual 92   |win prob= 0.9339999999999999\n",
      "TOR away predicted 109.473| away actual 117  |halftime diff 19\n",
      "\n",
      "win\n",
      "HOU home predicted 117.453| home actual 112   |win prob= 0.976\n",
      "DEN away predicted 90.47| away actual 85  |halftime diff 18\n",
      "\n",
      "win\n",
      "MIL home predicted 122.113| home actual 128   |win prob= 0.967\n",
      "LAC away predicted 96.24| away actual 118  |halftime diff 21\n",
      "\n",
      "win\n",
      "PHI home predicted 126.015| home actual 123   |win prob= 0.787\n",
      "BRK away predicted 112.612| away actual 110  |halftime diff 10\n",
      "\n",
      "incorrect\n",
      "NOP home predicted 120.438| home actual 121   |win prob= 0.525\n",
      "SAC away predicted 121.402| away actual 118  |halftime diff 2\n",
      "\n",
      "win\n",
      "DET home predicted 114.086| home actual 115   |win prob= 0.905\n",
      "ORL away predicted 94.259| away actual 98  |halftime diff 14\n",
      "\n",
      "win\n",
      "UTA home predicted 127.54| home actual 128   |win prob= 0.653\n",
      "WAS away predicted 121.37| away actual 124  |halftime diff 8\n",
      "\n",
      "win\n",
      "OKC home predicted 102.709| home actual 105   |win prob= 0.65\n",
      "DEN away predicted 107.504| away actual 115  |halftime diff 4\n",
      "\n",
      "win\n",
      "BOS home predicted 124.568| home actual 114   |win prob= 0.823\n",
      "IND away predicted 112.305| away actual 112  |halftime diff 3\n",
      "\n",
      "win\n",
      "LAL home predicted 125.49| home actual 129   |win prob= 0.586\n",
      "CHO away predicted 122.061| away actual 115  |halftime diff 10\n",
      "\n",
      "incorrect\n",
      "MIN home predicted 108.326| home actual 131   |win prob= 0.858\n",
      "GSW away predicted 123.594| away actual 130  |halftime diff 14\n",
      "\n",
      "win\n",
      "ATL home predicted 102.79| home actual 98   |win prob= 0.632\n",
      "POR away predicted 106.788| away actual 118  |halftime diff 9\n",
      "\n",
      "win\n",
      "IND home predicted 108.86| home actual 116   |win prob= 0.583\n",
      "ORL away predicted 110.992| away actual 121  |halftime diff 1\n",
      "\n",
      "incorrect\n",
      "NYK home predicted 117.341| home actual 92   |win prob= 0.683\n",
      "MIA away predicted 110.02| away actual 100  |halftime diff 6\n",
      "\n",
      "win\n",
      "MIN home predicted 110.926| home actual 109   |win prob= 0.864\n",
      "PHI away predicted 125.719| away actual 118  |halftime diff 13\n",
      "\n",
      "incorrect\n",
      "PHO home predicted 121.846| home actual 115   |win prob= 0.775\n",
      "MEM away predicted 111.525| away actual 120  |halftime diff 8\n",
      "\n",
      "win\n",
      "BRK home predicted 101.844| home actual 110   |win prob= 0.705\n",
      "BOS away predicted 94.496| away actual 96  |halftime diff 1\n",
      "\n",
      "win\n",
      "CHI home predicted 112.723| home actual 101   |win prob= 0.923\n",
      "TOR away predicted 133.093| away actual 124  |halftime diff 11\n",
      "\n",
      "win\n",
      "LAC home predicted 126.263| home actual 132   |win prob= 0.958\n",
      "CLE away predicted 101.867| away actual 108  |halftime diff 13\n",
      "\n",
      "win\n",
      "DET home predicted 85.58| home actual 99   |win prob= 0.773\n",
      "POR away predicted 75.62| away actual 90  |halftime diff 3\n",
      "\n",
      "win\n",
      "HOU home predicted 121.038| home actual 119   |win prob= 0.771\n",
      "SAC away predicted 109.692| away actual 108  |halftime diff 3\n",
      "\n",
      "incorrect\n",
      "OKC home predicted 109.068| home actual 103   |win prob= 0.549\n",
      "DAL away predicted 106.098| away actual 106  |halftime diff 2\n",
      "\n",
      "incorrect\n",
      "ATL home predicted 130.863| home actual 136   |win prob= 0.5469999999999999\n",
      "MIL away predicted 131.999| away actual 135  |halftime diff 3\n",
      "\n",
      "win\n",
      "LAC home predicted 122.411| home actual 113   |win prob= 0.957\n",
      "MEM away predicted 97.505| away actual 96  |halftime diff 15\n",
      "\n",
      "incorrect\n",
      "DEN home predicted 124.28| home actual 90   |win prob= 0.945\n",
      "WAS away predicted 103.878| away actual 95  |halftime diff 9\n",
      "\n",
      "win\n",
      "SAS home predicted 114.976| home actual 106   |win prob= 0.675\n",
      "SAC away predicted 122.612| away actual 113  |halftime diff 1\n",
      "\n",
      "incorrect\n",
      "NOP home predicted 123.566| home actual 102   |win prob= 0.629\n",
      "LAL away predicted 117.572| away actual 130  |halftime diff 1\n",
      "\n",
      "win\n",
      "GSW home predicted 128.878| home actual 137   |win prob= 0.996\n",
      "CHO away predicted 91.176| away actual 90  |halftime diff 22\n",
      "\n"
     ]
    }
   ],
   "source": [
    "from datetime import timedelta\n",
    "from datetime import datetime\n",
    "import random\n",
    "date = datetime.strptime('2019-3-01','%Y-%m-%d')\n",
    "days_to_simulate = 30\n",
    "ingame_weight = 0\n",
    "markov_order=3\n",
    "home_bias=3\n",
    "wins=0\n",
    "losses=0\n",
    "spreads=[]\n",
    "totals=[]\n",
    "confidences=[]\n",
    "winners=[] #items should be of the form (predicted winner, actual winner, halftime winner)\n",
    "\n",
    "team_correct=defaultdict(int)\n",
    "team_all=defaultdict(int)\n",
    "for i in range(days_to_simulate):\n",
    "    date+=timedelta(1)\n",
    "    today = todays_games(df,date)\n",
    "    \n",
    "    #create dictionary that gives us the mean & std of change from number of possesions in 1st half compared to 2nd\n",
    "    change_dict = number_possesions_change(df,date) \n",
    "\n",
    "    for game in today:\n",
    "        #Get team abbs\n",
    "        home_team = game[0]\n",
    "        away_team = game[1]\n",
    "\n",
    "        #Get all past games for each team\n",
    "        home_df = teams_past_games(df,home_team,date)\n",
    "        away_df = teams_past_games(df,home_team,date)\n",
    "        \n",
    "        \n",
    "        #split past games into lists of sequential events\n",
    "        home_seq,_ = create_game_sequences(home_df,home_team)\n",
    "        _,away_seq = create_game_sequences(away_df,away_team)\n",
    "\n",
    "        \"\"\"split past game sequences into dictionaries of state probabilities. The order of our markov model = group_size-1.\n",
    "        An example of an item in the dict is {['make 2','miss 2', 'turnover']:{'make 2':10, 'miss 2':15,....}},\n",
    "        where the innermost values represent the number of occurrences seen for that event, given that state (outer key).\n",
    "        \"\"\"\n",
    "        home_seq_dict = team_sequence_dict(home_seq,group_size=markov_order+1)\n",
    "        away_seq_dict = team_sequence_dict(away_seq,group_size=markov_order+1)\n",
    "        \n",
    "        #Save first half df, scores\n",
    "        first_half,home_score,away_score = get_first_half(df,home_team,away_team,date)\n",
    "\n",
    "        #Extract home/away sequences\n",
    "        first_half_home_seq,_ = create_game_sequences(first_half,home_team)\n",
    "        _,first_half_away_seq = create_game_sequences(first_half,away_team)\n",
    "        \n",
    "        #First Half transition probabilities\n",
    "        home_fh_seq_dict = team_sequence_dict(first_half_home_seq,group_size=2)\n",
    "        away_fh_seq_dict = team_sequence_dict(first_half_away_seq,group_size=2)\n",
    "        \n",
    "        #Get the final scores\n",
    "        end_home = df[(df.HomeTeam==home_team) & (df.AwayTeam==away_team) & (df.Date==date)].iloc[-1]['HomeScore']\n",
    "        end_away = df[(df.HomeTeam==home_team) & (df.AwayTeam==away_team) & (df.Date==date)].iloc[-1]['AwayScore']\n",
    "\n",
    "        #Initialize empty list to keep our predictions\n",
    "        home_predict_list=[]\n",
    "        away_predict_list=[]\n",
    "        \n",
    "        #Simulate our game for each team\n",
    "        for it in range(1000):\n",
    "            \n",
    "            #Get the end of the first half so we have something to start us off, drop these when done\n",
    "            second_half_sequence = first_half_home_seq[0][-markov_order:] \n",
    "            \n",
    "            #Sample from normal distribution where mean is the mean diff from 1st half possesions to 2nd half,\n",
    "            #and std is std of the same\n",
    "            poss_diff_home = np.random.normal(loc=change_dict[home_team]['mean'],scale=change_dict[home_team]['std'])\n",
    "            \n",
    "            #Get the estimate/avg possesions in first half, add a random value sampled from our normal dist\n",
    "            for i in range(round((len(first_half_home_seq[0])+len(first_half_away_seq[0]))/2+poss_diff_home+home_bias)):\n",
    "                \n",
    "                #If the previous states are a key in our transition dict, gather the weights\n",
    "                try:\n",
    "                    weights = np.array([home_seq_dict[tuple(second_half_sequence[-markov_order:])][event] for event in events_clean])\n",
    "                    weights = weights/weights.sum()\n",
    "                #If the previous states have not been seen/not a key, weight all possible events equally\n",
    "                except:\n",
    "                    \n",
    "                    weights=np.array([1 for event in events_clean])\n",
    "                    weights = weights/weights.sum()\n",
    "                    \n",
    "                #Weight season markov transition probabilities with ingame markov transition    \n",
    "                try:\n",
    "                    ingame_w = np.array([home_fh_seq_dict[tuple(second_half_sequence[-1:])][event] for event in events_clean])\n",
    "                    ingame_w = ingame_w/ingame_w.sum()\n",
    "                    weights = ingame_weighting*ingame_w + (1-ingame_weighting)*weights\n",
    "                except:\n",
    "                    pass\n",
    "                \n",
    "                #Generate a random choice based on the weights we created, append that to our sequence\n",
    "                second_half_sequence.append(random.choices(events_clean,weights)[0])\n",
    "\n",
    "                \n",
    "            #Do the same thing for the away team\n",
    "            second_half_sequence2 = first_half_away_seq[0][-markov_order:] #drop these when we are done simulating\n",
    "            \n",
    "            poss_diff_away = np.random.normal(loc=change_dict[away_team]['mean'],scale=change_dict[away_team]['std'])\n",
    "            for i in range(round((len(first_half_home_seq[0])+len(first_half_away_seq[0]))/2+poss_diff_away)):\n",
    "                try:\n",
    "                    weights = np.array([away_seq_dict[tuple(second_half_sequence2[-markov_order:])][event] for event in events_clean])\n",
    "                    weights = weights/weights.sum()\n",
    "                except:\n",
    "                    weights=np.array([1 for event in events_clean])\n",
    "                    weights = weights/weights.sum()\n",
    "                \n",
    "                #Weight season markov transition probabilities with ingame markov transition\n",
    "                try:\n",
    "                    ingame_w = np.array([away_fh_seq_dict[tuple(second_half_sequence2[-1:])][event] for event in events_clean])\n",
    "                    ingame_w = ingame_w/ingame_w.sum()\n",
    "                    weights = ingame_weighting*ingame_w + (1-ingame_weighting)*weights\n",
    "                except:\n",
    "                    pass\n",
    "                second_half_sequence2.append(random.choices(events_clean,weights)[0])\n",
    "                \n",
    "            #Score our second half and add it to the first half score, this is our prediction for one iteration\n",
    "            home_predict_list.append(home_score+score(Counter(second_half_sequence[markov_order:])))\n",
    "            away_predict_list.append(away_score+score(Counter(second_half_sequence2[markov_order:])))\n",
    "\n",
    "        #Get the average points scored across all simulations for both teams\n",
    "        home_pred = sum(home_predict_list)/len(home_predict_list)\n",
    "        away_pred = sum(away_predict_list)/len(away_predict_list)\n",
    "        \n",
    "        #Calculate predicted spread and actual spread\n",
    "        spread_pred = home_pred-away_pred\n",
    "        spread_actual = end_home-end_away\n",
    "        \n",
    "        #Calculate predicted and actual point total (over/under)\n",
    "        total_pred = home_pred+away_pred\n",
    "        total_actual = end_home+end_away\n",
    "        \n",
    "        #Keep track of how we are doing\n",
    "        spreads.append([spread_pred,spread_actual])\n",
    "        totals.append([total_pred,total_actual])\n",
    "        \n",
    "        #calculate win prob\n",
    "        pair_results = [1 if home_s>away_s else 0for home_s,away_s in zip(home_predict_list,away_predict_list)]\n",
    "        confidence = sum(pair_results)/len(pair_results)\n",
    "        if confidence<0.5:\n",
    "            confidence=1-confidence\n",
    "        \n",
    "        confidences.append(confidence)\n",
    "        #Decide if we picked the correct winner, keep track of accuracy by team\n",
    "        if (home_pred>away_pred and end_home>end_away) or(home_pred<away_pred and end_home<end_away):\n",
    "            print('win')\n",
    "            wins+=1\n",
    "            team_correct[home_team]+=1\n",
    "            team_correct[away_team]+=1\n",
    "            team_all[home_team]+=1\n",
    "            team_all[away_team]+=1\n",
    "        else:\n",
    "            print('incorrect')\n",
    "            losses+=1\n",
    "            team_all[home_team]+=1\n",
    "            team_all[away_team]+=1\n",
    "        print(home_team+' home predicted '+str(home_pred)+'| home actual '+str(end_home) +'   |win prob= '+str(confidence))\n",
    "        print(away_team+' away predicted '+str(away_pred)+'| away actual '+str(end_away) + '  |halftime diff '+str(abs(home_score-away_score)))\n",
    "        print('')"
   ]
  },
  {
   "cell_type": "code",
   "execution_count": 136,
   "metadata": {},
   "outputs": [
    {
     "data": {
      "text/plain": [
       "0.7557603686635944"
      ]
     },
     "execution_count": 136,
     "metadata": {},
     "output_type": "execute_result"
    }
   ],
   "source": [
    "wins/(wins+losses)"
   ]
  },
  {
   "cell_type": "code",
   "execution_count": 137,
   "metadata": {},
   "outputs": [
    {
     "name": "stdout",
     "output_type": "stream",
     "text": [
      "0.5329052733841544\n"
     ]
    },
    {
     "data": {
      "application/vnd.plotly.v1+json": {
       "config": {
        "plotlyServerURL": "https://plot.ly"
       },
       "data": [
        {
         "hovertemplate": "x=%{x}<br>y=%{y}<extra></extra>",
         "legendgroup": "",
         "marker": {
          "color": "#636efa",
          "symbol": "circle"
         },
         "mode": "markers",
         "name": "",
         "orientation": "v",
         "showlegend": false,
         "type": "scatter",
         "x": [
          14.603000000000009,
          13.078000000000003,
          18.608999999999995,
          -15.843000000000004,
          9.744,
          2.2179999999999893,
          14.053000000000011,
          -44.13899999999998,
          3.2150000000000034,
          7.668000000000006,
          -1.566999999999993,
          6.792000000000002,
          44.34700000000001,
          -1.2319999999999993,
          -22.595,
          -10.463000000000008,
          -3.8739999999999952,
          10.179999999999993,
          8.058000000000007,
          12.912000000000006,
          11.513000000000005,
          -4.099000000000004,
          0.36599999999999966,
          28.870999999999995,
          -25.403999999999996,
          -19.561999999999998,
          5.5120000000000005,
          13.47399999999999,
          7.603999999999999,
          16.914,
          6.5989999999999895,
          4.375999999999991,
          9.777999999999992,
          12.340000000000003,
          5.965000000000003,
          -3.5250000000000057,
          -20.397000000000006,
          -1.0789999999999935,
          -12.485,
          2.0460000000000065,
          10.466999999999999,
          11.900000000000006,
          2.6400000000000006,
          16.826999999999998,
          25.171000000000006,
          30.733000000000004,
          14.147999999999996,
          -8.284999999999997,
          1.7139999999999986,
          33.78399999999999,
          15.759,
          -0.3430000000000035,
          3.311000000000007,
          29.61500000000001,
          -18.926000000000002,
          -12.087000000000003,
          -1.012999999999991,
          0.472999999999999,
          -18.806999999999988,
          4.1910000000000025,
          -3.3149999999999977,
          -0.29599999999999227,
          11.945000000000007,
          19.916999999999987,
          4.965000000000003,
          -2.5379999999999967,
          3.98899999999999,
          36.730000000000004,
          30.465999999999994,
          -4.702000000000012,
          6.741,
          14.043000000000006,
          -11.953000000000003,
          12.182000000000002,
          5.500999999999991,
          15.323000000000008,
          -1.8229999999999933,
          -3.1569999999999965,
          -11.024000000000001,
          -3.7849999999999966,
          -17.123999999999995,
          4.3160000000000025,
          12.522999999999996,
          11.400000000000006,
          4.510999999999996,
          -0.3399999999999892,
          16.926000000000002,
          -6.660999999999987,
          26.286,
          -10.902999999999992,
          22.72,
          5.86399999999999,
          -4.266999999999996,
          28.114000000000004,
          15.897000000000006,
          25.727000000000004,
          9.063999999999993,
          11.688999999999993,
          -14.190000000000012,
          -16.784999999999997,
          1.7949999999999875,
          10.438000000000002,
          0.42799999999999727,
          21.418999999999997,
          0.39800000000001035,
          26.10499999999999,
          -2.8230000000000075,
          -1.2730000000000103,
          6.788000000000011,
          19.668000000000006,
          12.584000000000003,
          14.260999999999996,
          22.040999999999997,
          -5.417000000000016,
          7.3089999999999975,
          -1.6610000000000014,
          -10.687999999999988,
          9.900000000000006,
          -17.05900000000001,
          -7.869,
          15.622,
          -12.971999999999994,
          11.466999999999999,
          32.49600000000001,
          1.8529999999999944,
          -12.917000000000002,
          6.909000000000006,
          16.018,
          -12.394000000000005,
          12.144000000000005,
          -4.087999999999994,
          15.701999999999998,
          13.179999999999993,
          6.731000000000009,
          -16.772999999999996,
          32.27900000000001,
          -41.454999999999984,
          -13.072000000000003,
          -13.058999999999997,
          21.980999999999995,
          11.420000000000002,
          10.62700000000001,
          15.010999999999996,
          -15.203000000000003,
          1.6899999999999977,
          22.86,
          -3.632000000000005,
          -0.9169999999999874,
          20.105999999999995,
          -17.557000000000002,
          -1.7090000000000032,
          10.99199999999999,
          -29.13300000000001,
          2.668999999999997,
          6.213999999999999,
          2.5360000000000014,
          12.005999999999986,
          -5.879000000000005,
          -39.30199999999999,
          -4.0249999999999915,
          26.917,
          1.7150000000000034,
          -4.9680000000000035,
          21.994,
          9.59899999999999,
          0.17799999999999727,
          -21.716000000000008,
          -8.543000000000006,
          1.1470000000000056,
          29.323999999999998,
          7.817999999999998,
          3.323999999999998,
          38.75800000000001,
          -21.894999999999982,
          25.035999999999987,
          -15.357,
          -1.9939999999999998,
          -11.756,
          13.769999999999996,
          8.128,
          1.3979999999999961,
          16.24600000000001,
          -8.144999999999996,
          -10.588999999999999,
          22.486999999999995,
          0.031999999999996476,
          -22.49300000000001,
          -7.283999999999992,
          -5.161000000000001,
          -19.58099999999999,
          27.680000000000007,
          25.073999999999998,
          13.64200000000001,
          -0.8489999999999895,
          19.379999999999995,
          5.584000000000003,
          -4.606999999999999,
          12.722000000000008,
          4.332999999999998,
          -15.212000000000003,
          -4.323999999999998,
          -1.88900000000001,
          7.147999999999996,
          -14.732,
          9.631,
          6.405000000000001,
          -20.102999999999994,
          24.14500000000001,
          9.009,
          11.063999999999993,
          2.055000000000007,
          -0.8620000000000232,
          24.533,
          21.072999999999993,
          -7.278000000000006,
          6.184000000000012,
          37.93699999999998
         ],
         "xaxis": "x",
         "y": [
          -8,
          4,
          29,
          -30,
          -3,
          -5,
          14,
          -36,
          9,
          14,
          4,
          5,
          21,
          14,
          -11,
          -5,
          -10,
          1,
          -3,
          9,
          7,
          -8,
          1,
          39,
          -33,
          -12,
          9,
          11,
          8,
          9,
          -7,
          9,
          6,
          11,
          -7,
          17,
          -16,
          -2,
          -10,
          1,
          -8,
          19,
          16,
          10,
          8,
          17,
          -8,
          -23,
          1,
          16,
          5,
          -2,
          17,
          7,
          -13,
          5,
          -8,
          17,
          -21,
          8,
          7,
          -1,
          23,
          11,
          -4,
          12,
          25,
          28,
          12,
          -9,
          25,
          6,
          -7,
          5,
          7,
          26,
          -16,
          -21,
          -17,
          12,
          -17,
          34,
          10,
          21,
          -2,
          1,
          20,
          2,
          29,
          6,
          13,
          9,
          7,
          26,
          14,
          -15,
          -12,
          6,
          -6,
          -22,
          5,
          2,
          -2,
          9,
          5,
          16,
          7,
          -5,
          3,
          10,
          3,
          15,
          27,
          1,
          18,
          -9,
          7,
          8,
          -21,
          -9,
          6,
          -15,
          -4,
          36,
          -4,
          -16,
          6,
          14,
          -10,
          -2,
          6,
          8,
          5,
          1,
          -5,
          23,
          -21,
          -9,
          3,
          23,
          16,
          7,
          3,
          -5,
          -20,
          29,
          -2,
          -5,
          6,
          -18,
          4,
          -7,
          -35,
          -13,
          -5,
          9,
          2,
          5,
          -31,
          7,
          36,
          5,
          -11,
          22,
          7,
          -1,
          -23,
          -19,
          21,
          33,
          12,
          4,
          3,
          -11,
          9,
          -10,
          -4,
          -10,
          -5,
          14,
          9,
          18,
          8,
          -15,
          15,
          -3,
          -20,
          6,
          6,
          -25,
          27,
          10,
          13,
          3,
          17,
          4,
          -10,
          2,
          14,
          1,
          -20,
          -5,
          -8,
          -9,
          -5,
          14,
          -23,
          24,
          9,
          11,
          -3,
          1,
          17,
          -5,
          -7,
          -28,
          47
         ],
         "yaxis": "y"
        }
       ],
       "layout": {
        "legend": {
         "tracegroupgap": 0
        },
        "margin": {
         "t": 60
        },
        "template": {
         "data": {
          "bar": [
           {
            "error_x": {
             "color": "#2a3f5f"
            },
            "error_y": {
             "color": "#2a3f5f"
            },
            "marker": {
             "line": {
              "color": "#E5ECF6",
              "width": 0.5
             }
            },
            "type": "bar"
           }
          ],
          "barpolar": [
           {
            "marker": {
             "line": {
              "color": "#E5ECF6",
              "width": 0.5
             }
            },
            "type": "barpolar"
           }
          ],
          "carpet": [
           {
            "aaxis": {
             "endlinecolor": "#2a3f5f",
             "gridcolor": "white",
             "linecolor": "white",
             "minorgridcolor": "white",
             "startlinecolor": "#2a3f5f"
            },
            "baxis": {
             "endlinecolor": "#2a3f5f",
             "gridcolor": "white",
             "linecolor": "white",
             "minorgridcolor": "white",
             "startlinecolor": "#2a3f5f"
            },
            "type": "carpet"
           }
          ],
          "choropleth": [
           {
            "colorbar": {
             "outlinewidth": 0,
             "ticks": ""
            },
            "type": "choropleth"
           }
          ],
          "contour": [
           {
            "colorbar": {
             "outlinewidth": 0,
             "ticks": ""
            },
            "colorscale": [
             [
              0,
              "#0d0887"
             ],
             [
              0.1111111111111111,
              "#46039f"
             ],
             [
              0.2222222222222222,
              "#7201a8"
             ],
             [
              0.3333333333333333,
              "#9c179e"
             ],
             [
              0.4444444444444444,
              "#bd3786"
             ],
             [
              0.5555555555555556,
              "#d8576b"
             ],
             [
              0.6666666666666666,
              "#ed7953"
             ],
             [
              0.7777777777777778,
              "#fb9f3a"
             ],
             [
              0.8888888888888888,
              "#fdca26"
             ],
             [
              1,
              "#f0f921"
             ]
            ],
            "type": "contour"
           }
          ],
          "contourcarpet": [
           {
            "colorbar": {
             "outlinewidth": 0,
             "ticks": ""
            },
            "type": "contourcarpet"
           }
          ],
          "heatmap": [
           {
            "colorbar": {
             "outlinewidth": 0,
             "ticks": ""
            },
            "colorscale": [
             [
              0,
              "#0d0887"
             ],
             [
              0.1111111111111111,
              "#46039f"
             ],
             [
              0.2222222222222222,
              "#7201a8"
             ],
             [
              0.3333333333333333,
              "#9c179e"
             ],
             [
              0.4444444444444444,
              "#bd3786"
             ],
             [
              0.5555555555555556,
              "#d8576b"
             ],
             [
              0.6666666666666666,
              "#ed7953"
             ],
             [
              0.7777777777777778,
              "#fb9f3a"
             ],
             [
              0.8888888888888888,
              "#fdca26"
             ],
             [
              1,
              "#f0f921"
             ]
            ],
            "type": "heatmap"
           }
          ],
          "heatmapgl": [
           {
            "colorbar": {
             "outlinewidth": 0,
             "ticks": ""
            },
            "colorscale": [
             [
              0,
              "#0d0887"
             ],
             [
              0.1111111111111111,
              "#46039f"
             ],
             [
              0.2222222222222222,
              "#7201a8"
             ],
             [
              0.3333333333333333,
              "#9c179e"
             ],
             [
              0.4444444444444444,
              "#bd3786"
             ],
             [
              0.5555555555555556,
              "#d8576b"
             ],
             [
              0.6666666666666666,
              "#ed7953"
             ],
             [
              0.7777777777777778,
              "#fb9f3a"
             ],
             [
              0.8888888888888888,
              "#fdca26"
             ],
             [
              1,
              "#f0f921"
             ]
            ],
            "type": "heatmapgl"
           }
          ],
          "histogram": [
           {
            "marker": {
             "colorbar": {
              "outlinewidth": 0,
              "ticks": ""
             }
            },
            "type": "histogram"
           }
          ],
          "histogram2d": [
           {
            "colorbar": {
             "outlinewidth": 0,
             "ticks": ""
            },
            "colorscale": [
             [
              0,
              "#0d0887"
             ],
             [
              0.1111111111111111,
              "#46039f"
             ],
             [
              0.2222222222222222,
              "#7201a8"
             ],
             [
              0.3333333333333333,
              "#9c179e"
             ],
             [
              0.4444444444444444,
              "#bd3786"
             ],
             [
              0.5555555555555556,
              "#d8576b"
             ],
             [
              0.6666666666666666,
              "#ed7953"
             ],
             [
              0.7777777777777778,
              "#fb9f3a"
             ],
             [
              0.8888888888888888,
              "#fdca26"
             ],
             [
              1,
              "#f0f921"
             ]
            ],
            "type": "histogram2d"
           }
          ],
          "histogram2dcontour": [
           {
            "colorbar": {
             "outlinewidth": 0,
             "ticks": ""
            },
            "colorscale": [
             [
              0,
              "#0d0887"
             ],
             [
              0.1111111111111111,
              "#46039f"
             ],
             [
              0.2222222222222222,
              "#7201a8"
             ],
             [
              0.3333333333333333,
              "#9c179e"
             ],
             [
              0.4444444444444444,
              "#bd3786"
             ],
             [
              0.5555555555555556,
              "#d8576b"
             ],
             [
              0.6666666666666666,
              "#ed7953"
             ],
             [
              0.7777777777777778,
              "#fb9f3a"
             ],
             [
              0.8888888888888888,
              "#fdca26"
             ],
             [
              1,
              "#f0f921"
             ]
            ],
            "type": "histogram2dcontour"
           }
          ],
          "mesh3d": [
           {
            "colorbar": {
             "outlinewidth": 0,
             "ticks": ""
            },
            "type": "mesh3d"
           }
          ],
          "parcoords": [
           {
            "line": {
             "colorbar": {
              "outlinewidth": 0,
              "ticks": ""
             }
            },
            "type": "parcoords"
           }
          ],
          "pie": [
           {
            "automargin": true,
            "type": "pie"
           }
          ],
          "scatter": [
           {
            "marker": {
             "colorbar": {
              "outlinewidth": 0,
              "ticks": ""
             }
            },
            "type": "scatter"
           }
          ],
          "scatter3d": [
           {
            "line": {
             "colorbar": {
              "outlinewidth": 0,
              "ticks": ""
             }
            },
            "marker": {
             "colorbar": {
              "outlinewidth": 0,
              "ticks": ""
             }
            },
            "type": "scatter3d"
           }
          ],
          "scattercarpet": [
           {
            "marker": {
             "colorbar": {
              "outlinewidth": 0,
              "ticks": ""
             }
            },
            "type": "scattercarpet"
           }
          ],
          "scattergeo": [
           {
            "marker": {
             "colorbar": {
              "outlinewidth": 0,
              "ticks": ""
             }
            },
            "type": "scattergeo"
           }
          ],
          "scattergl": [
           {
            "marker": {
             "colorbar": {
              "outlinewidth": 0,
              "ticks": ""
             }
            },
            "type": "scattergl"
           }
          ],
          "scattermapbox": [
           {
            "marker": {
             "colorbar": {
              "outlinewidth": 0,
              "ticks": ""
             }
            },
            "type": "scattermapbox"
           }
          ],
          "scatterpolar": [
           {
            "marker": {
             "colorbar": {
              "outlinewidth": 0,
              "ticks": ""
             }
            },
            "type": "scatterpolar"
           }
          ],
          "scatterpolargl": [
           {
            "marker": {
             "colorbar": {
              "outlinewidth": 0,
              "ticks": ""
             }
            },
            "type": "scatterpolargl"
           }
          ],
          "scatterternary": [
           {
            "marker": {
             "colorbar": {
              "outlinewidth": 0,
              "ticks": ""
             }
            },
            "type": "scatterternary"
           }
          ],
          "surface": [
           {
            "colorbar": {
             "outlinewidth": 0,
             "ticks": ""
            },
            "colorscale": [
             [
              0,
              "#0d0887"
             ],
             [
              0.1111111111111111,
              "#46039f"
             ],
             [
              0.2222222222222222,
              "#7201a8"
             ],
             [
              0.3333333333333333,
              "#9c179e"
             ],
             [
              0.4444444444444444,
              "#bd3786"
             ],
             [
              0.5555555555555556,
              "#d8576b"
             ],
             [
              0.6666666666666666,
              "#ed7953"
             ],
             [
              0.7777777777777778,
              "#fb9f3a"
             ],
             [
              0.8888888888888888,
              "#fdca26"
             ],
             [
              1,
              "#f0f921"
             ]
            ],
            "type": "surface"
           }
          ],
          "table": [
           {
            "cells": {
             "fill": {
              "color": "#EBF0F8"
             },
             "line": {
              "color": "white"
             }
            },
            "header": {
             "fill": {
              "color": "#C8D4E3"
             },
             "line": {
              "color": "white"
             }
            },
            "type": "table"
           }
          ]
         },
         "layout": {
          "annotationdefaults": {
           "arrowcolor": "#2a3f5f",
           "arrowhead": 0,
           "arrowwidth": 1
          },
          "coloraxis": {
           "colorbar": {
            "outlinewidth": 0,
            "ticks": ""
           }
          },
          "colorscale": {
           "diverging": [
            [
             0,
             "#8e0152"
            ],
            [
             0.1,
             "#c51b7d"
            ],
            [
             0.2,
             "#de77ae"
            ],
            [
             0.3,
             "#f1b6da"
            ],
            [
             0.4,
             "#fde0ef"
            ],
            [
             0.5,
             "#f7f7f7"
            ],
            [
             0.6,
             "#e6f5d0"
            ],
            [
             0.7,
             "#b8e186"
            ],
            [
             0.8,
             "#7fbc41"
            ],
            [
             0.9,
             "#4d9221"
            ],
            [
             1,
             "#276419"
            ]
           ],
           "sequential": [
            [
             0,
             "#0d0887"
            ],
            [
             0.1111111111111111,
             "#46039f"
            ],
            [
             0.2222222222222222,
             "#7201a8"
            ],
            [
             0.3333333333333333,
             "#9c179e"
            ],
            [
             0.4444444444444444,
             "#bd3786"
            ],
            [
             0.5555555555555556,
             "#d8576b"
            ],
            [
             0.6666666666666666,
             "#ed7953"
            ],
            [
             0.7777777777777778,
             "#fb9f3a"
            ],
            [
             0.8888888888888888,
             "#fdca26"
            ],
            [
             1,
             "#f0f921"
            ]
           ],
           "sequentialminus": [
            [
             0,
             "#0d0887"
            ],
            [
             0.1111111111111111,
             "#46039f"
            ],
            [
             0.2222222222222222,
             "#7201a8"
            ],
            [
             0.3333333333333333,
             "#9c179e"
            ],
            [
             0.4444444444444444,
             "#bd3786"
            ],
            [
             0.5555555555555556,
             "#d8576b"
            ],
            [
             0.6666666666666666,
             "#ed7953"
            ],
            [
             0.7777777777777778,
             "#fb9f3a"
            ],
            [
             0.8888888888888888,
             "#fdca26"
            ],
            [
             1,
             "#f0f921"
            ]
           ]
          },
          "colorway": [
           "#636efa",
           "#EF553B",
           "#00cc96",
           "#ab63fa",
           "#FFA15A",
           "#19d3f3",
           "#FF6692",
           "#B6E880",
           "#FF97FF",
           "#FECB52"
          ],
          "font": {
           "color": "#2a3f5f"
          },
          "geo": {
           "bgcolor": "white",
           "lakecolor": "white",
           "landcolor": "#E5ECF6",
           "showlakes": true,
           "showland": true,
           "subunitcolor": "white"
          },
          "hoverlabel": {
           "align": "left"
          },
          "hovermode": "closest",
          "mapbox": {
           "style": "light"
          },
          "paper_bgcolor": "white",
          "plot_bgcolor": "#E5ECF6",
          "polar": {
           "angularaxis": {
            "gridcolor": "white",
            "linecolor": "white",
            "ticks": ""
           },
           "bgcolor": "#E5ECF6",
           "radialaxis": {
            "gridcolor": "white",
            "linecolor": "white",
            "ticks": ""
           }
          },
          "scene": {
           "xaxis": {
            "backgroundcolor": "#E5ECF6",
            "gridcolor": "white",
            "gridwidth": 2,
            "linecolor": "white",
            "showbackground": true,
            "ticks": "",
            "zerolinecolor": "white"
           },
           "yaxis": {
            "backgroundcolor": "#E5ECF6",
            "gridcolor": "white",
            "gridwidth": 2,
            "linecolor": "white",
            "showbackground": true,
            "ticks": "",
            "zerolinecolor": "white"
           },
           "zaxis": {
            "backgroundcolor": "#E5ECF6",
            "gridcolor": "white",
            "gridwidth": 2,
            "linecolor": "white",
            "showbackground": true,
            "ticks": "",
            "zerolinecolor": "white"
           }
          },
          "shapedefaults": {
           "line": {
            "color": "#2a3f5f"
           }
          },
          "ternary": {
           "aaxis": {
            "gridcolor": "white",
            "linecolor": "white",
            "ticks": ""
           },
           "baxis": {
            "gridcolor": "white",
            "linecolor": "white",
            "ticks": ""
           },
           "bgcolor": "#E5ECF6",
           "caxis": {
            "gridcolor": "white",
            "linecolor": "white",
            "ticks": ""
           }
          },
          "title": {
           "x": 0.05
          },
          "xaxis": {
           "automargin": true,
           "gridcolor": "white",
           "linecolor": "white",
           "ticks": "",
           "title": {
            "standoff": 15
           },
           "zerolinecolor": "white",
           "zerolinewidth": 2
          },
          "yaxis": {
           "automargin": true,
           "gridcolor": "white",
           "linecolor": "white",
           "ticks": "",
           "title": {
            "standoff": 15
           },
           "zerolinecolor": "white",
           "zerolinewidth": 2
          }
         }
        },
        "xaxis": {
         "anchor": "y",
         "domain": [
          0,
          1
         ],
         "title": {
          "text": "predicted spread"
         }
        },
        "yaxis": {
         "anchor": "x",
         "domain": [
          0,
          1
         ],
         "title": {
          "text": "actual spread"
         }
        }
       }
      },
      "text/html": [
       "<div>\n",
       "        \n",
       "        \n",
       "            <div id=\"91c26717-e062-4eb5-9f7b-187e6e4c607e\" class=\"plotly-graph-div\" style=\"height:525px; width:100%;\"></div>\n",
       "            <script type=\"text/javascript\">\n",
       "                require([\"plotly\"], function(Plotly) {\n",
       "                    window.PLOTLYENV=window.PLOTLYENV || {};\n",
       "                    \n",
       "                if (document.getElementById(\"91c26717-e062-4eb5-9f7b-187e6e4c607e\")) {\n",
       "                    Plotly.newPlot(\n",
       "                        '91c26717-e062-4eb5-9f7b-187e6e4c607e',\n",
       "                        [{\"hovertemplate\": \"x=%{x}<br>y=%{y}<extra></extra>\", \"legendgroup\": \"\", \"marker\": {\"color\": \"#636efa\", \"symbol\": \"circle\"}, \"mode\": \"markers\", \"name\": \"\", \"orientation\": \"v\", \"showlegend\": false, \"type\": \"scatter\", \"x\": [14.603000000000009, 13.078000000000003, 18.608999999999995, -15.843000000000004, 9.744, 2.2179999999999893, 14.053000000000011, -44.13899999999998, 3.2150000000000034, 7.668000000000006, -1.566999999999993, 6.792000000000002, 44.34700000000001, -1.2319999999999993, -22.595, -10.463000000000008, -3.8739999999999952, 10.179999999999993, 8.058000000000007, 12.912000000000006, 11.513000000000005, -4.099000000000004, 0.36599999999999966, 28.870999999999995, -25.403999999999996, -19.561999999999998, 5.5120000000000005, 13.47399999999999, 7.603999999999999, 16.914, 6.5989999999999895, 4.375999999999991, 9.777999999999992, 12.340000000000003, 5.965000000000003, -3.5250000000000057, -20.397000000000006, -1.0789999999999935, -12.485, 2.0460000000000065, 10.466999999999999, 11.900000000000006, 2.6400000000000006, 16.826999999999998, 25.171000000000006, 30.733000000000004, 14.147999999999996, -8.284999999999997, 1.7139999999999986, 33.78399999999999, 15.759, -0.3430000000000035, 3.311000000000007, 29.61500000000001, -18.926000000000002, -12.087000000000003, -1.012999999999991, 0.472999999999999, -18.806999999999988, 4.1910000000000025, -3.3149999999999977, -0.29599999999999227, 11.945000000000007, 19.916999999999987, 4.965000000000003, -2.5379999999999967, 3.98899999999999, 36.730000000000004, 30.465999999999994, -4.702000000000012, 6.741, 14.043000000000006, -11.953000000000003, 12.182000000000002, 5.500999999999991, 15.323000000000008, -1.8229999999999933, -3.1569999999999965, -11.024000000000001, -3.7849999999999966, -17.123999999999995, 4.3160000000000025, 12.522999999999996, 11.400000000000006, 4.510999999999996, -0.3399999999999892, 16.926000000000002, -6.660999999999987, 26.286, -10.902999999999992, 22.72, 5.86399999999999, -4.266999999999996, 28.114000000000004, 15.897000000000006, 25.727000000000004, 9.063999999999993, 11.688999999999993, -14.190000000000012, -16.784999999999997, 1.7949999999999875, 10.438000000000002, 0.42799999999999727, 21.418999999999997, 0.39800000000001035, 26.10499999999999, -2.8230000000000075, -1.2730000000000103, 6.788000000000011, 19.668000000000006, 12.584000000000003, 14.260999999999996, 22.040999999999997, -5.417000000000016, 7.3089999999999975, -1.6610000000000014, -10.687999999999988, 9.900000000000006, -17.05900000000001, -7.869, 15.622, -12.971999999999994, 11.466999999999999, 32.49600000000001, 1.8529999999999944, -12.917000000000002, 6.909000000000006, 16.018, -12.394000000000005, 12.144000000000005, -4.087999999999994, 15.701999999999998, 13.179999999999993, 6.731000000000009, -16.772999999999996, 32.27900000000001, -41.454999999999984, -13.072000000000003, -13.058999999999997, 21.980999999999995, 11.420000000000002, 10.62700000000001, 15.010999999999996, -15.203000000000003, 1.6899999999999977, 22.86, -3.632000000000005, -0.9169999999999874, 20.105999999999995, -17.557000000000002, -1.7090000000000032, 10.99199999999999, -29.13300000000001, 2.668999999999997, 6.213999999999999, 2.5360000000000014, 12.005999999999986, -5.879000000000005, -39.30199999999999, -4.0249999999999915, 26.917, 1.7150000000000034, -4.9680000000000035, 21.994, 9.59899999999999, 0.17799999999999727, -21.716000000000008, -8.543000000000006, 1.1470000000000056, 29.323999999999998, 7.817999999999998, 3.323999999999998, 38.75800000000001, -21.894999999999982, 25.035999999999987, -15.357, -1.9939999999999998, -11.756, 13.769999999999996, 8.128, 1.3979999999999961, 16.24600000000001, -8.144999999999996, -10.588999999999999, 22.486999999999995, 0.031999999999996476, -22.49300000000001, -7.283999999999992, -5.161000000000001, -19.58099999999999, 27.680000000000007, 25.073999999999998, 13.64200000000001, -0.8489999999999895, 19.379999999999995, 5.584000000000003, -4.606999999999999, 12.722000000000008, 4.332999999999998, -15.212000000000003, -4.323999999999998, -1.88900000000001, 7.147999999999996, -14.732, 9.631, 6.405000000000001, -20.102999999999994, 24.14500000000001, 9.009, 11.063999999999993, 2.055000000000007, -0.8620000000000232, 24.533, 21.072999999999993, -7.278000000000006, 6.184000000000012, 37.93699999999998], \"xaxis\": \"x\", \"y\": [-8, 4, 29, -30, -3, -5, 14, -36, 9, 14, 4, 5, 21, 14, -11, -5, -10, 1, -3, 9, 7, -8, 1, 39, -33, -12, 9, 11, 8, 9, -7, 9, 6, 11, -7, 17, -16, -2, -10, 1, -8, 19, 16, 10, 8, 17, -8, -23, 1, 16, 5, -2, 17, 7, -13, 5, -8, 17, -21, 8, 7, -1, 23, 11, -4, 12, 25, 28, 12, -9, 25, 6, -7, 5, 7, 26, -16, -21, -17, 12, -17, 34, 10, 21, -2, 1, 20, 2, 29, 6, 13, 9, 7, 26, 14, -15, -12, 6, -6, -22, 5, 2, -2, 9, 5, 16, 7, -5, 3, 10, 3, 15, 27, 1, 18, -9, 7, 8, -21, -9, 6, -15, -4, 36, -4, -16, 6, 14, -10, -2, 6, 8, 5, 1, -5, 23, -21, -9, 3, 23, 16, 7, 3, -5, -20, 29, -2, -5, 6, -18, 4, -7, -35, -13, -5, 9, 2, 5, -31, 7, 36, 5, -11, 22, 7, -1, -23, -19, 21, 33, 12, 4, 3, -11, 9, -10, -4, -10, -5, 14, 9, 18, 8, -15, 15, -3, -20, 6, 6, -25, 27, 10, 13, 3, 17, 4, -10, 2, 14, 1, -20, -5, -8, -9, -5, 14, -23, 24, 9, 11, -3, 1, 17, -5, -7, -28, 47], \"yaxis\": \"y\"}],\n",
       "                        {\"legend\": {\"tracegroupgap\": 0}, \"margin\": {\"t\": 60}, \"template\": {\"data\": {\"bar\": [{\"error_x\": {\"color\": \"#2a3f5f\"}, \"error_y\": {\"color\": \"#2a3f5f\"}, \"marker\": {\"line\": {\"color\": \"#E5ECF6\", \"width\": 0.5}}, \"type\": \"bar\"}], \"barpolar\": [{\"marker\": {\"line\": {\"color\": \"#E5ECF6\", \"width\": 0.5}}, \"type\": \"barpolar\"}], \"carpet\": [{\"aaxis\": {\"endlinecolor\": \"#2a3f5f\", \"gridcolor\": \"white\", \"linecolor\": \"white\", \"minorgridcolor\": \"white\", \"startlinecolor\": \"#2a3f5f\"}, \"baxis\": {\"endlinecolor\": \"#2a3f5f\", \"gridcolor\": \"white\", \"linecolor\": \"white\", \"minorgridcolor\": \"white\", \"startlinecolor\": \"#2a3f5f\"}, \"type\": \"carpet\"}], \"choropleth\": [{\"colorbar\": {\"outlinewidth\": 0, \"ticks\": \"\"}, \"type\": \"choropleth\"}], \"contour\": [{\"colorbar\": {\"outlinewidth\": 0, \"ticks\": \"\"}, \"colorscale\": [[0.0, \"#0d0887\"], [0.1111111111111111, \"#46039f\"], [0.2222222222222222, \"#7201a8\"], [0.3333333333333333, \"#9c179e\"], [0.4444444444444444, \"#bd3786\"], [0.5555555555555556, \"#d8576b\"], [0.6666666666666666, \"#ed7953\"], [0.7777777777777778, \"#fb9f3a\"], [0.8888888888888888, \"#fdca26\"], [1.0, \"#f0f921\"]], \"type\": \"contour\"}], \"contourcarpet\": [{\"colorbar\": {\"outlinewidth\": 0, \"ticks\": \"\"}, \"type\": \"contourcarpet\"}], \"heatmap\": [{\"colorbar\": {\"outlinewidth\": 0, \"ticks\": \"\"}, \"colorscale\": [[0.0, \"#0d0887\"], [0.1111111111111111, \"#46039f\"], [0.2222222222222222, \"#7201a8\"], [0.3333333333333333, \"#9c179e\"], [0.4444444444444444, \"#bd3786\"], [0.5555555555555556, \"#d8576b\"], [0.6666666666666666, \"#ed7953\"], [0.7777777777777778, \"#fb9f3a\"], [0.8888888888888888, \"#fdca26\"], [1.0, \"#f0f921\"]], \"type\": \"heatmap\"}], \"heatmapgl\": [{\"colorbar\": {\"outlinewidth\": 0, \"ticks\": \"\"}, \"colorscale\": [[0.0, \"#0d0887\"], [0.1111111111111111, \"#46039f\"], [0.2222222222222222, \"#7201a8\"], [0.3333333333333333, \"#9c179e\"], [0.4444444444444444, \"#bd3786\"], [0.5555555555555556, \"#d8576b\"], [0.6666666666666666, \"#ed7953\"], [0.7777777777777778, \"#fb9f3a\"], [0.8888888888888888, \"#fdca26\"], [1.0, \"#f0f921\"]], \"type\": \"heatmapgl\"}], \"histogram\": [{\"marker\": {\"colorbar\": {\"outlinewidth\": 0, \"ticks\": \"\"}}, \"type\": \"histogram\"}], \"histogram2d\": [{\"colorbar\": {\"outlinewidth\": 0, \"ticks\": \"\"}, \"colorscale\": [[0.0, \"#0d0887\"], [0.1111111111111111, \"#46039f\"], [0.2222222222222222, \"#7201a8\"], [0.3333333333333333, \"#9c179e\"], [0.4444444444444444, \"#bd3786\"], [0.5555555555555556, \"#d8576b\"], [0.6666666666666666, \"#ed7953\"], [0.7777777777777778, \"#fb9f3a\"], [0.8888888888888888, \"#fdca26\"], [1.0, \"#f0f921\"]], \"type\": \"histogram2d\"}], \"histogram2dcontour\": [{\"colorbar\": {\"outlinewidth\": 0, \"ticks\": \"\"}, \"colorscale\": [[0.0, \"#0d0887\"], [0.1111111111111111, \"#46039f\"], [0.2222222222222222, \"#7201a8\"], [0.3333333333333333, \"#9c179e\"], [0.4444444444444444, \"#bd3786\"], [0.5555555555555556, \"#d8576b\"], [0.6666666666666666, \"#ed7953\"], [0.7777777777777778, \"#fb9f3a\"], [0.8888888888888888, \"#fdca26\"], [1.0, \"#f0f921\"]], \"type\": \"histogram2dcontour\"}], \"mesh3d\": [{\"colorbar\": {\"outlinewidth\": 0, \"ticks\": \"\"}, \"type\": \"mesh3d\"}], \"parcoords\": [{\"line\": {\"colorbar\": {\"outlinewidth\": 0, \"ticks\": \"\"}}, \"type\": \"parcoords\"}], \"pie\": [{\"automargin\": true, \"type\": \"pie\"}], \"scatter\": [{\"marker\": {\"colorbar\": {\"outlinewidth\": 0, \"ticks\": \"\"}}, \"type\": \"scatter\"}], \"scatter3d\": [{\"line\": {\"colorbar\": {\"outlinewidth\": 0, \"ticks\": \"\"}}, \"marker\": {\"colorbar\": {\"outlinewidth\": 0, \"ticks\": \"\"}}, \"type\": \"scatter3d\"}], \"scattercarpet\": [{\"marker\": {\"colorbar\": {\"outlinewidth\": 0, \"ticks\": \"\"}}, \"type\": \"scattercarpet\"}], \"scattergeo\": [{\"marker\": {\"colorbar\": {\"outlinewidth\": 0, \"ticks\": \"\"}}, \"type\": \"scattergeo\"}], \"scattergl\": [{\"marker\": {\"colorbar\": {\"outlinewidth\": 0, \"ticks\": \"\"}}, \"type\": \"scattergl\"}], \"scattermapbox\": [{\"marker\": {\"colorbar\": {\"outlinewidth\": 0, \"ticks\": \"\"}}, \"type\": \"scattermapbox\"}], \"scatterpolar\": [{\"marker\": {\"colorbar\": {\"outlinewidth\": 0, \"ticks\": \"\"}}, \"type\": \"scatterpolar\"}], \"scatterpolargl\": [{\"marker\": {\"colorbar\": {\"outlinewidth\": 0, \"ticks\": \"\"}}, \"type\": \"scatterpolargl\"}], \"scatterternary\": [{\"marker\": {\"colorbar\": {\"outlinewidth\": 0, \"ticks\": \"\"}}, \"type\": \"scatterternary\"}], \"surface\": [{\"colorbar\": {\"outlinewidth\": 0, \"ticks\": \"\"}, \"colorscale\": [[0.0, \"#0d0887\"], [0.1111111111111111, \"#46039f\"], [0.2222222222222222, \"#7201a8\"], [0.3333333333333333, \"#9c179e\"], [0.4444444444444444, \"#bd3786\"], [0.5555555555555556, \"#d8576b\"], [0.6666666666666666, \"#ed7953\"], [0.7777777777777778, \"#fb9f3a\"], [0.8888888888888888, \"#fdca26\"], [1.0, \"#f0f921\"]], \"type\": \"surface\"}], \"table\": [{\"cells\": {\"fill\": {\"color\": \"#EBF0F8\"}, \"line\": {\"color\": \"white\"}}, \"header\": {\"fill\": {\"color\": \"#C8D4E3\"}, \"line\": {\"color\": \"white\"}}, \"type\": \"table\"}]}, \"layout\": {\"annotationdefaults\": {\"arrowcolor\": \"#2a3f5f\", \"arrowhead\": 0, \"arrowwidth\": 1}, \"coloraxis\": {\"colorbar\": {\"outlinewidth\": 0, \"ticks\": \"\"}}, \"colorscale\": {\"diverging\": [[0, \"#8e0152\"], [0.1, \"#c51b7d\"], [0.2, \"#de77ae\"], [0.3, \"#f1b6da\"], [0.4, \"#fde0ef\"], [0.5, \"#f7f7f7\"], [0.6, \"#e6f5d0\"], [0.7, \"#b8e186\"], [0.8, \"#7fbc41\"], [0.9, \"#4d9221\"], [1, \"#276419\"]], \"sequential\": [[0.0, \"#0d0887\"], [0.1111111111111111, \"#46039f\"], [0.2222222222222222, \"#7201a8\"], [0.3333333333333333, \"#9c179e\"], [0.4444444444444444, \"#bd3786\"], [0.5555555555555556, \"#d8576b\"], [0.6666666666666666, \"#ed7953\"], [0.7777777777777778, \"#fb9f3a\"], [0.8888888888888888, \"#fdca26\"], [1.0, \"#f0f921\"]], \"sequentialminus\": [[0.0, \"#0d0887\"], [0.1111111111111111, \"#46039f\"], [0.2222222222222222, \"#7201a8\"], [0.3333333333333333, \"#9c179e\"], [0.4444444444444444, \"#bd3786\"], [0.5555555555555556, \"#d8576b\"], [0.6666666666666666, \"#ed7953\"], [0.7777777777777778, \"#fb9f3a\"], [0.8888888888888888, \"#fdca26\"], [1.0, \"#f0f921\"]]}, \"colorway\": [\"#636efa\", \"#EF553B\", \"#00cc96\", \"#ab63fa\", \"#FFA15A\", \"#19d3f3\", \"#FF6692\", \"#B6E880\", \"#FF97FF\", \"#FECB52\"], \"font\": {\"color\": \"#2a3f5f\"}, \"geo\": {\"bgcolor\": \"white\", \"lakecolor\": \"white\", \"landcolor\": \"#E5ECF6\", \"showlakes\": true, \"showland\": true, \"subunitcolor\": \"white\"}, \"hoverlabel\": {\"align\": \"left\"}, \"hovermode\": \"closest\", \"mapbox\": {\"style\": \"light\"}, \"paper_bgcolor\": \"white\", \"plot_bgcolor\": \"#E5ECF6\", \"polar\": {\"angularaxis\": {\"gridcolor\": \"white\", \"linecolor\": \"white\", \"ticks\": \"\"}, \"bgcolor\": \"#E5ECF6\", \"radialaxis\": {\"gridcolor\": \"white\", \"linecolor\": \"white\", \"ticks\": \"\"}}, \"scene\": {\"xaxis\": {\"backgroundcolor\": \"#E5ECF6\", \"gridcolor\": \"white\", \"gridwidth\": 2, \"linecolor\": \"white\", \"showbackground\": true, \"ticks\": \"\", \"zerolinecolor\": \"white\"}, \"yaxis\": {\"backgroundcolor\": \"#E5ECF6\", \"gridcolor\": \"white\", \"gridwidth\": 2, \"linecolor\": \"white\", \"showbackground\": true, \"ticks\": \"\", \"zerolinecolor\": \"white\"}, \"zaxis\": {\"backgroundcolor\": \"#E5ECF6\", \"gridcolor\": \"white\", \"gridwidth\": 2, \"linecolor\": \"white\", \"showbackground\": true, \"ticks\": \"\", \"zerolinecolor\": \"white\"}}, \"shapedefaults\": {\"line\": {\"color\": \"#2a3f5f\"}}, \"ternary\": {\"aaxis\": {\"gridcolor\": \"white\", \"linecolor\": \"white\", \"ticks\": \"\"}, \"baxis\": {\"gridcolor\": \"white\", \"linecolor\": \"white\", \"ticks\": \"\"}, \"bgcolor\": \"#E5ECF6\", \"caxis\": {\"gridcolor\": \"white\", \"linecolor\": \"white\", \"ticks\": \"\"}}, \"title\": {\"x\": 0.05}, \"xaxis\": {\"automargin\": true, \"gridcolor\": \"white\", \"linecolor\": \"white\", \"ticks\": \"\", \"title\": {\"standoff\": 15}, \"zerolinecolor\": \"white\", \"zerolinewidth\": 2}, \"yaxis\": {\"automargin\": true, \"gridcolor\": \"white\", \"linecolor\": \"white\", \"ticks\": \"\", \"title\": {\"standoff\": 15}, \"zerolinecolor\": \"white\", \"zerolinewidth\": 2}}}, \"xaxis\": {\"anchor\": \"y\", \"domain\": [0.0, 1.0], \"title\": {\"text\": \"predicted spread\"}}, \"yaxis\": {\"anchor\": \"x\", \"domain\": [0.0, 1.0], \"title\": {\"text\": \"actual spread\"}}},\n",
       "                        {\"responsive\": true}\n",
       "                    ).then(function(){\n",
       "                            \n",
       "var gd = document.getElementById('91c26717-e062-4eb5-9f7b-187e6e4c607e');\n",
       "var x = new MutationObserver(function (mutations, observer) {{\n",
       "        var display = window.getComputedStyle(gd).display;\n",
       "        if (!display || display === 'none') {{\n",
       "            console.log([gd, 'removed!']);\n",
       "            Plotly.purge(gd);\n",
       "            observer.disconnect();\n",
       "        }}\n",
       "}});\n",
       "\n",
       "// Listen for the removal of the full notebook cells\n",
       "var notebookContainer = gd.closest('#notebook-container');\n",
       "if (notebookContainer) {{\n",
       "    x.observe(notebookContainer, {childList: true});\n",
       "}}\n",
       "\n",
       "// Listen for the clearing of the current output cell\n",
       "var outputEl = gd.closest('.output');\n",
       "if (outputEl) {{\n",
       "    x.observe(outputEl, {childList: true});\n",
       "}}\n",
       "\n",
       "                        })\n",
       "                };\n",
       "                });\n",
       "            </script>\n",
       "        </div>"
      ]
     },
     "metadata": {},
     "output_type": "display_data"
    }
   ],
   "source": [
    "from sklearn.linear_model import LinearRegression\n",
    "model = LinearRegression()\n",
    "y_actual = np.array([spread[1] for spread in spreads]).reshape(-1, 1)\n",
    "x_predicted = np.array([spread[0] for spread in spreads]).reshape(-1, 1)\n",
    "\n",
    "model.fit(x_predicted, y_actual)\n",
    "print(model.score(x_predicted,y_actual))\n",
    "fig = px.scatter(x=x_predicted.flatten(),y=y_actual.flatten())\n",
    "fig.update_xaxes(title='predicted spread')\n",
    "fig.update_yaxes(title='actual spread')"
   ]
  },
  {
   "cell_type": "code",
   "execution_count": 139,
   "metadata": {},
   "outputs": [
    {
     "name": "stdout",
     "output_type": "stream",
     "text": [
      "median spread diff -1.186\n"
     ]
    }
   ],
   "source": [
    "print('median spread diff '+str(np.median(diffs)))\n"
   ]
  },
  {
   "cell_type": "code",
   "execution_count": 143,
   "metadata": {},
   "outputs": [
    {
     "data": {
      "application/vnd.plotly.v1+json": {
       "config": {
        "plotlyServerURL": "https://plot.ly"
       },
       "data": [
        {
         "alignmentgroup": "True",
         "hovertemplate": "x=%{x}<br>y=%{y}<extra></extra>",
         "legendgroup": "",
         "marker": {
          "color": "#636efa"
         },
         "name": "",
         "offsetgroup": "",
         "orientation": "v",
         "showlegend": false,
         "textposition": "auto",
         "type": "bar",
         "x": [
          "DEN",
          "NOP",
          "UTA",
          "MIL",
          "MIA",
          "BRK",
          "DAL",
          "MEM",
          "PHI",
          "GSW",
          "IND",
          "ORL",
          "SAS",
          "OKC",
          "CLE",
          "DET",
          "PHO",
          "LAL",
          "TOR",
          "LAC",
          "NYK",
          "WAS",
          "MIN",
          "BOS",
          "HOU",
          "CHI",
          "ATL",
          "CHO",
          "POR",
          "SAC"
         ],
         "xaxis": "x",
         "y": [
          0.8620689655172413,
          0.3888888888888889,
          0.8846153846153846,
          0.7692307692307693,
          0.6190476190476191,
          0.8695652173913043,
          0.7142857142857143,
          0.631578947368421,
          0.8148148148148148,
          0.7857142857142857,
          0.7391304347826086,
          0.8333333333333334,
          0.8076923076923077,
          0.6538461538461539,
          0.9,
          0.6538461538461539,
          0.6842105263157895,
          0.8,
          0.8461538461538461,
          0.875,
          0.85,
          0.5,
          0.65,
          0.68,
          0.8518518518518519,
          0.7894736842105263,
          0.8421052631578947,
          0.75,
          0.8461538461538461,
          0.75
         ],
         "yaxis": "y"
        }
       ],
       "layout": {
        "barmode": "relative",
        "legend": {
         "tracegroupgap": 0
        },
        "margin": {
         "t": 60
        },
        "template": {
         "data": {
          "bar": [
           {
            "error_x": {
             "color": "#2a3f5f"
            },
            "error_y": {
             "color": "#2a3f5f"
            },
            "marker": {
             "line": {
              "color": "#E5ECF6",
              "width": 0.5
             }
            },
            "type": "bar"
           }
          ],
          "barpolar": [
           {
            "marker": {
             "line": {
              "color": "#E5ECF6",
              "width": 0.5
             }
            },
            "type": "barpolar"
           }
          ],
          "carpet": [
           {
            "aaxis": {
             "endlinecolor": "#2a3f5f",
             "gridcolor": "white",
             "linecolor": "white",
             "minorgridcolor": "white",
             "startlinecolor": "#2a3f5f"
            },
            "baxis": {
             "endlinecolor": "#2a3f5f",
             "gridcolor": "white",
             "linecolor": "white",
             "minorgridcolor": "white",
             "startlinecolor": "#2a3f5f"
            },
            "type": "carpet"
           }
          ],
          "choropleth": [
           {
            "colorbar": {
             "outlinewidth": 0,
             "ticks": ""
            },
            "type": "choropleth"
           }
          ],
          "contour": [
           {
            "colorbar": {
             "outlinewidth": 0,
             "ticks": ""
            },
            "colorscale": [
             [
              0,
              "#0d0887"
             ],
             [
              0.1111111111111111,
              "#46039f"
             ],
             [
              0.2222222222222222,
              "#7201a8"
             ],
             [
              0.3333333333333333,
              "#9c179e"
             ],
             [
              0.4444444444444444,
              "#bd3786"
             ],
             [
              0.5555555555555556,
              "#d8576b"
             ],
             [
              0.6666666666666666,
              "#ed7953"
             ],
             [
              0.7777777777777778,
              "#fb9f3a"
             ],
             [
              0.8888888888888888,
              "#fdca26"
             ],
             [
              1,
              "#f0f921"
             ]
            ],
            "type": "contour"
           }
          ],
          "contourcarpet": [
           {
            "colorbar": {
             "outlinewidth": 0,
             "ticks": ""
            },
            "type": "contourcarpet"
           }
          ],
          "heatmap": [
           {
            "colorbar": {
             "outlinewidth": 0,
             "ticks": ""
            },
            "colorscale": [
             [
              0,
              "#0d0887"
             ],
             [
              0.1111111111111111,
              "#46039f"
             ],
             [
              0.2222222222222222,
              "#7201a8"
             ],
             [
              0.3333333333333333,
              "#9c179e"
             ],
             [
              0.4444444444444444,
              "#bd3786"
             ],
             [
              0.5555555555555556,
              "#d8576b"
             ],
             [
              0.6666666666666666,
              "#ed7953"
             ],
             [
              0.7777777777777778,
              "#fb9f3a"
             ],
             [
              0.8888888888888888,
              "#fdca26"
             ],
             [
              1,
              "#f0f921"
             ]
            ],
            "type": "heatmap"
           }
          ],
          "heatmapgl": [
           {
            "colorbar": {
             "outlinewidth": 0,
             "ticks": ""
            },
            "colorscale": [
             [
              0,
              "#0d0887"
             ],
             [
              0.1111111111111111,
              "#46039f"
             ],
             [
              0.2222222222222222,
              "#7201a8"
             ],
             [
              0.3333333333333333,
              "#9c179e"
             ],
             [
              0.4444444444444444,
              "#bd3786"
             ],
             [
              0.5555555555555556,
              "#d8576b"
             ],
             [
              0.6666666666666666,
              "#ed7953"
             ],
             [
              0.7777777777777778,
              "#fb9f3a"
             ],
             [
              0.8888888888888888,
              "#fdca26"
             ],
             [
              1,
              "#f0f921"
             ]
            ],
            "type": "heatmapgl"
           }
          ],
          "histogram": [
           {
            "marker": {
             "colorbar": {
              "outlinewidth": 0,
              "ticks": ""
             }
            },
            "type": "histogram"
           }
          ],
          "histogram2d": [
           {
            "colorbar": {
             "outlinewidth": 0,
             "ticks": ""
            },
            "colorscale": [
             [
              0,
              "#0d0887"
             ],
             [
              0.1111111111111111,
              "#46039f"
             ],
             [
              0.2222222222222222,
              "#7201a8"
             ],
             [
              0.3333333333333333,
              "#9c179e"
             ],
             [
              0.4444444444444444,
              "#bd3786"
             ],
             [
              0.5555555555555556,
              "#d8576b"
             ],
             [
              0.6666666666666666,
              "#ed7953"
             ],
             [
              0.7777777777777778,
              "#fb9f3a"
             ],
             [
              0.8888888888888888,
              "#fdca26"
             ],
             [
              1,
              "#f0f921"
             ]
            ],
            "type": "histogram2d"
           }
          ],
          "histogram2dcontour": [
           {
            "colorbar": {
             "outlinewidth": 0,
             "ticks": ""
            },
            "colorscale": [
             [
              0,
              "#0d0887"
             ],
             [
              0.1111111111111111,
              "#46039f"
             ],
             [
              0.2222222222222222,
              "#7201a8"
             ],
             [
              0.3333333333333333,
              "#9c179e"
             ],
             [
              0.4444444444444444,
              "#bd3786"
             ],
             [
              0.5555555555555556,
              "#d8576b"
             ],
             [
              0.6666666666666666,
              "#ed7953"
             ],
             [
              0.7777777777777778,
              "#fb9f3a"
             ],
             [
              0.8888888888888888,
              "#fdca26"
             ],
             [
              1,
              "#f0f921"
             ]
            ],
            "type": "histogram2dcontour"
           }
          ],
          "mesh3d": [
           {
            "colorbar": {
             "outlinewidth": 0,
             "ticks": ""
            },
            "type": "mesh3d"
           }
          ],
          "parcoords": [
           {
            "line": {
             "colorbar": {
              "outlinewidth": 0,
              "ticks": ""
             }
            },
            "type": "parcoords"
           }
          ],
          "pie": [
           {
            "automargin": true,
            "type": "pie"
           }
          ],
          "scatter": [
           {
            "marker": {
             "colorbar": {
              "outlinewidth": 0,
              "ticks": ""
             }
            },
            "type": "scatter"
           }
          ],
          "scatter3d": [
           {
            "line": {
             "colorbar": {
              "outlinewidth": 0,
              "ticks": ""
             }
            },
            "marker": {
             "colorbar": {
              "outlinewidth": 0,
              "ticks": ""
             }
            },
            "type": "scatter3d"
           }
          ],
          "scattercarpet": [
           {
            "marker": {
             "colorbar": {
              "outlinewidth": 0,
              "ticks": ""
             }
            },
            "type": "scattercarpet"
           }
          ],
          "scattergeo": [
           {
            "marker": {
             "colorbar": {
              "outlinewidth": 0,
              "ticks": ""
             }
            },
            "type": "scattergeo"
           }
          ],
          "scattergl": [
           {
            "marker": {
             "colorbar": {
              "outlinewidth": 0,
              "ticks": ""
             }
            },
            "type": "scattergl"
           }
          ],
          "scattermapbox": [
           {
            "marker": {
             "colorbar": {
              "outlinewidth": 0,
              "ticks": ""
             }
            },
            "type": "scattermapbox"
           }
          ],
          "scatterpolar": [
           {
            "marker": {
             "colorbar": {
              "outlinewidth": 0,
              "ticks": ""
             }
            },
            "type": "scatterpolar"
           }
          ],
          "scatterpolargl": [
           {
            "marker": {
             "colorbar": {
              "outlinewidth": 0,
              "ticks": ""
             }
            },
            "type": "scatterpolargl"
           }
          ],
          "scatterternary": [
           {
            "marker": {
             "colorbar": {
              "outlinewidth": 0,
              "ticks": ""
             }
            },
            "type": "scatterternary"
           }
          ],
          "surface": [
           {
            "colorbar": {
             "outlinewidth": 0,
             "ticks": ""
            },
            "colorscale": [
             [
              0,
              "#0d0887"
             ],
             [
              0.1111111111111111,
              "#46039f"
             ],
             [
              0.2222222222222222,
              "#7201a8"
             ],
             [
              0.3333333333333333,
              "#9c179e"
             ],
             [
              0.4444444444444444,
              "#bd3786"
             ],
             [
              0.5555555555555556,
              "#d8576b"
             ],
             [
              0.6666666666666666,
              "#ed7953"
             ],
             [
              0.7777777777777778,
              "#fb9f3a"
             ],
             [
              0.8888888888888888,
              "#fdca26"
             ],
             [
              1,
              "#f0f921"
             ]
            ],
            "type": "surface"
           }
          ],
          "table": [
           {
            "cells": {
             "fill": {
              "color": "#EBF0F8"
             },
             "line": {
              "color": "white"
             }
            },
            "header": {
             "fill": {
              "color": "#C8D4E3"
             },
             "line": {
              "color": "white"
             }
            },
            "type": "table"
           }
          ]
         },
         "layout": {
          "annotationdefaults": {
           "arrowcolor": "#2a3f5f",
           "arrowhead": 0,
           "arrowwidth": 1
          },
          "coloraxis": {
           "colorbar": {
            "outlinewidth": 0,
            "ticks": ""
           }
          },
          "colorscale": {
           "diverging": [
            [
             0,
             "#8e0152"
            ],
            [
             0.1,
             "#c51b7d"
            ],
            [
             0.2,
             "#de77ae"
            ],
            [
             0.3,
             "#f1b6da"
            ],
            [
             0.4,
             "#fde0ef"
            ],
            [
             0.5,
             "#f7f7f7"
            ],
            [
             0.6,
             "#e6f5d0"
            ],
            [
             0.7,
             "#b8e186"
            ],
            [
             0.8,
             "#7fbc41"
            ],
            [
             0.9,
             "#4d9221"
            ],
            [
             1,
             "#276419"
            ]
           ],
           "sequential": [
            [
             0,
             "#0d0887"
            ],
            [
             0.1111111111111111,
             "#46039f"
            ],
            [
             0.2222222222222222,
             "#7201a8"
            ],
            [
             0.3333333333333333,
             "#9c179e"
            ],
            [
             0.4444444444444444,
             "#bd3786"
            ],
            [
             0.5555555555555556,
             "#d8576b"
            ],
            [
             0.6666666666666666,
             "#ed7953"
            ],
            [
             0.7777777777777778,
             "#fb9f3a"
            ],
            [
             0.8888888888888888,
             "#fdca26"
            ],
            [
             1,
             "#f0f921"
            ]
           ],
           "sequentialminus": [
            [
             0,
             "#0d0887"
            ],
            [
             0.1111111111111111,
             "#46039f"
            ],
            [
             0.2222222222222222,
             "#7201a8"
            ],
            [
             0.3333333333333333,
             "#9c179e"
            ],
            [
             0.4444444444444444,
             "#bd3786"
            ],
            [
             0.5555555555555556,
             "#d8576b"
            ],
            [
             0.6666666666666666,
             "#ed7953"
            ],
            [
             0.7777777777777778,
             "#fb9f3a"
            ],
            [
             0.8888888888888888,
             "#fdca26"
            ],
            [
             1,
             "#f0f921"
            ]
           ]
          },
          "colorway": [
           "#636efa",
           "#EF553B",
           "#00cc96",
           "#ab63fa",
           "#FFA15A",
           "#19d3f3",
           "#FF6692",
           "#B6E880",
           "#FF97FF",
           "#FECB52"
          ],
          "font": {
           "color": "#2a3f5f"
          },
          "geo": {
           "bgcolor": "white",
           "lakecolor": "white",
           "landcolor": "#E5ECF6",
           "showlakes": true,
           "showland": true,
           "subunitcolor": "white"
          },
          "hoverlabel": {
           "align": "left"
          },
          "hovermode": "closest",
          "mapbox": {
           "style": "light"
          },
          "paper_bgcolor": "white",
          "plot_bgcolor": "#E5ECF6",
          "polar": {
           "angularaxis": {
            "gridcolor": "white",
            "linecolor": "white",
            "ticks": ""
           },
           "bgcolor": "#E5ECF6",
           "radialaxis": {
            "gridcolor": "white",
            "linecolor": "white",
            "ticks": ""
           }
          },
          "scene": {
           "xaxis": {
            "backgroundcolor": "#E5ECF6",
            "gridcolor": "white",
            "gridwidth": 2,
            "linecolor": "white",
            "showbackground": true,
            "ticks": "",
            "zerolinecolor": "white"
           },
           "yaxis": {
            "backgroundcolor": "#E5ECF6",
            "gridcolor": "white",
            "gridwidth": 2,
            "linecolor": "white",
            "showbackground": true,
            "ticks": "",
            "zerolinecolor": "white"
           },
           "zaxis": {
            "backgroundcolor": "#E5ECF6",
            "gridcolor": "white",
            "gridwidth": 2,
            "linecolor": "white",
            "showbackground": true,
            "ticks": "",
            "zerolinecolor": "white"
           }
          },
          "shapedefaults": {
           "line": {
            "color": "#2a3f5f"
           }
          },
          "ternary": {
           "aaxis": {
            "gridcolor": "white",
            "linecolor": "white",
            "ticks": ""
           },
           "baxis": {
            "gridcolor": "white",
            "linecolor": "white",
            "ticks": ""
           },
           "bgcolor": "#E5ECF6",
           "caxis": {
            "gridcolor": "white",
            "linecolor": "white",
            "ticks": ""
           }
          },
          "title": {
           "x": 0.05
          },
          "xaxis": {
           "automargin": true,
           "gridcolor": "white",
           "linecolor": "white",
           "ticks": "",
           "title": {
            "standoff": 15
           },
           "zerolinecolor": "white",
           "zerolinewidth": 2
          },
          "yaxis": {
           "automargin": true,
           "gridcolor": "white",
           "linecolor": "white",
           "ticks": "",
           "title": {
            "standoff": 15
           },
           "zerolinecolor": "white",
           "zerolinewidth": 2
          }
         }
        },
        "xaxis": {
         "anchor": "y",
         "domain": [
          0,
          1
         ],
         "title": {
          "text": "x"
         }
        },
        "yaxis": {
         "anchor": "x",
         "domain": [
          0,
          1
         ],
         "title": {
          "text": "y"
         }
        }
       }
      },
      "text/html": [
       "<div>\n",
       "        \n",
       "        \n",
       "            <div id=\"5cfabace-efcf-40ce-ad50-2fcffff72de7\" class=\"plotly-graph-div\" style=\"height:525px; width:100%;\"></div>\n",
       "            <script type=\"text/javascript\">\n",
       "                require([\"plotly\"], function(Plotly) {\n",
       "                    window.PLOTLYENV=window.PLOTLYENV || {};\n",
       "                    \n",
       "                if (document.getElementById(\"5cfabace-efcf-40ce-ad50-2fcffff72de7\")) {\n",
       "                    Plotly.newPlot(\n",
       "                        '5cfabace-efcf-40ce-ad50-2fcffff72de7',\n",
       "                        [{\"alignmentgroup\": \"True\", \"hovertemplate\": \"x=%{x}<br>y=%{y}<extra></extra>\", \"legendgroup\": \"\", \"marker\": {\"color\": \"#636efa\"}, \"name\": \"\", \"offsetgroup\": \"\", \"orientation\": \"v\", \"showlegend\": false, \"textposition\": \"auto\", \"type\": \"bar\", \"x\": [\"DEN\", \"NOP\", \"UTA\", \"MIL\", \"MIA\", \"BRK\", \"DAL\", \"MEM\", \"PHI\", \"GSW\", \"IND\", \"ORL\", \"SAS\", \"OKC\", \"CLE\", \"DET\", \"PHO\", \"LAL\", \"TOR\", \"LAC\", \"NYK\", \"WAS\", \"MIN\", \"BOS\", \"HOU\", \"CHI\", \"ATL\", \"CHO\", \"POR\", \"SAC\"], \"xaxis\": \"x\", \"y\": [0.8620689655172413, 0.3888888888888889, 0.8846153846153846, 0.7692307692307693, 0.6190476190476191, 0.8695652173913043, 0.7142857142857143, 0.631578947368421, 0.8148148148148148, 0.7857142857142857, 0.7391304347826086, 0.8333333333333334, 0.8076923076923077, 0.6538461538461539, 0.9, 0.6538461538461539, 0.6842105263157895, 0.8, 0.8461538461538461, 0.875, 0.85, 0.5, 0.65, 0.68, 0.8518518518518519, 0.7894736842105263, 0.8421052631578947, 0.75, 0.8461538461538461, 0.75], \"yaxis\": \"y\"}],\n",
       "                        {\"barmode\": \"relative\", \"legend\": {\"tracegroupgap\": 0}, \"margin\": {\"t\": 60}, \"template\": {\"data\": {\"bar\": [{\"error_x\": {\"color\": \"#2a3f5f\"}, \"error_y\": {\"color\": \"#2a3f5f\"}, \"marker\": {\"line\": {\"color\": \"#E5ECF6\", \"width\": 0.5}}, \"type\": \"bar\"}], \"barpolar\": [{\"marker\": {\"line\": {\"color\": \"#E5ECF6\", \"width\": 0.5}}, \"type\": \"barpolar\"}], \"carpet\": [{\"aaxis\": {\"endlinecolor\": \"#2a3f5f\", \"gridcolor\": \"white\", \"linecolor\": \"white\", \"minorgridcolor\": \"white\", \"startlinecolor\": \"#2a3f5f\"}, \"baxis\": {\"endlinecolor\": \"#2a3f5f\", \"gridcolor\": \"white\", \"linecolor\": \"white\", \"minorgridcolor\": \"white\", \"startlinecolor\": \"#2a3f5f\"}, \"type\": \"carpet\"}], \"choropleth\": [{\"colorbar\": {\"outlinewidth\": 0, \"ticks\": \"\"}, \"type\": \"choropleth\"}], \"contour\": [{\"colorbar\": {\"outlinewidth\": 0, \"ticks\": \"\"}, \"colorscale\": [[0.0, \"#0d0887\"], [0.1111111111111111, \"#46039f\"], [0.2222222222222222, \"#7201a8\"], [0.3333333333333333, \"#9c179e\"], [0.4444444444444444, \"#bd3786\"], [0.5555555555555556, \"#d8576b\"], [0.6666666666666666, \"#ed7953\"], [0.7777777777777778, \"#fb9f3a\"], [0.8888888888888888, \"#fdca26\"], [1.0, \"#f0f921\"]], \"type\": \"contour\"}], \"contourcarpet\": [{\"colorbar\": {\"outlinewidth\": 0, \"ticks\": \"\"}, \"type\": \"contourcarpet\"}], \"heatmap\": [{\"colorbar\": {\"outlinewidth\": 0, \"ticks\": \"\"}, \"colorscale\": [[0.0, \"#0d0887\"], [0.1111111111111111, \"#46039f\"], [0.2222222222222222, \"#7201a8\"], [0.3333333333333333, \"#9c179e\"], [0.4444444444444444, \"#bd3786\"], [0.5555555555555556, \"#d8576b\"], [0.6666666666666666, \"#ed7953\"], [0.7777777777777778, \"#fb9f3a\"], [0.8888888888888888, \"#fdca26\"], [1.0, \"#f0f921\"]], \"type\": \"heatmap\"}], \"heatmapgl\": [{\"colorbar\": {\"outlinewidth\": 0, \"ticks\": \"\"}, \"colorscale\": [[0.0, \"#0d0887\"], [0.1111111111111111, \"#46039f\"], [0.2222222222222222, \"#7201a8\"], [0.3333333333333333, \"#9c179e\"], [0.4444444444444444, \"#bd3786\"], [0.5555555555555556, \"#d8576b\"], [0.6666666666666666, \"#ed7953\"], [0.7777777777777778, \"#fb9f3a\"], [0.8888888888888888, \"#fdca26\"], [1.0, \"#f0f921\"]], \"type\": \"heatmapgl\"}], \"histogram\": [{\"marker\": {\"colorbar\": {\"outlinewidth\": 0, \"ticks\": \"\"}}, \"type\": \"histogram\"}], \"histogram2d\": [{\"colorbar\": {\"outlinewidth\": 0, \"ticks\": \"\"}, \"colorscale\": [[0.0, \"#0d0887\"], [0.1111111111111111, \"#46039f\"], [0.2222222222222222, \"#7201a8\"], [0.3333333333333333, \"#9c179e\"], [0.4444444444444444, \"#bd3786\"], [0.5555555555555556, \"#d8576b\"], [0.6666666666666666, \"#ed7953\"], [0.7777777777777778, \"#fb9f3a\"], [0.8888888888888888, \"#fdca26\"], [1.0, \"#f0f921\"]], \"type\": \"histogram2d\"}], \"histogram2dcontour\": [{\"colorbar\": {\"outlinewidth\": 0, \"ticks\": \"\"}, \"colorscale\": [[0.0, \"#0d0887\"], [0.1111111111111111, \"#46039f\"], [0.2222222222222222, \"#7201a8\"], [0.3333333333333333, \"#9c179e\"], [0.4444444444444444, \"#bd3786\"], [0.5555555555555556, \"#d8576b\"], [0.6666666666666666, \"#ed7953\"], [0.7777777777777778, \"#fb9f3a\"], [0.8888888888888888, \"#fdca26\"], [1.0, \"#f0f921\"]], \"type\": \"histogram2dcontour\"}], \"mesh3d\": [{\"colorbar\": {\"outlinewidth\": 0, \"ticks\": \"\"}, \"type\": \"mesh3d\"}], \"parcoords\": [{\"line\": {\"colorbar\": {\"outlinewidth\": 0, \"ticks\": \"\"}}, \"type\": \"parcoords\"}], \"pie\": [{\"automargin\": true, \"type\": \"pie\"}], \"scatter\": [{\"marker\": {\"colorbar\": {\"outlinewidth\": 0, \"ticks\": \"\"}}, \"type\": \"scatter\"}], \"scatter3d\": [{\"line\": {\"colorbar\": {\"outlinewidth\": 0, \"ticks\": \"\"}}, \"marker\": {\"colorbar\": {\"outlinewidth\": 0, \"ticks\": \"\"}}, \"type\": \"scatter3d\"}], \"scattercarpet\": [{\"marker\": {\"colorbar\": {\"outlinewidth\": 0, \"ticks\": \"\"}}, \"type\": \"scattercarpet\"}], \"scattergeo\": [{\"marker\": {\"colorbar\": {\"outlinewidth\": 0, \"ticks\": \"\"}}, \"type\": \"scattergeo\"}], \"scattergl\": [{\"marker\": {\"colorbar\": {\"outlinewidth\": 0, \"ticks\": \"\"}}, \"type\": \"scattergl\"}], \"scattermapbox\": [{\"marker\": {\"colorbar\": {\"outlinewidth\": 0, \"ticks\": \"\"}}, \"type\": \"scattermapbox\"}], \"scatterpolar\": [{\"marker\": {\"colorbar\": {\"outlinewidth\": 0, \"ticks\": \"\"}}, \"type\": \"scatterpolar\"}], \"scatterpolargl\": [{\"marker\": {\"colorbar\": {\"outlinewidth\": 0, \"ticks\": \"\"}}, \"type\": \"scatterpolargl\"}], \"scatterternary\": [{\"marker\": {\"colorbar\": {\"outlinewidth\": 0, \"ticks\": \"\"}}, \"type\": \"scatterternary\"}], \"surface\": [{\"colorbar\": {\"outlinewidth\": 0, \"ticks\": \"\"}, \"colorscale\": [[0.0, \"#0d0887\"], [0.1111111111111111, \"#46039f\"], [0.2222222222222222, \"#7201a8\"], [0.3333333333333333, \"#9c179e\"], [0.4444444444444444, \"#bd3786\"], [0.5555555555555556, \"#d8576b\"], [0.6666666666666666, \"#ed7953\"], [0.7777777777777778, \"#fb9f3a\"], [0.8888888888888888, \"#fdca26\"], [1.0, \"#f0f921\"]], \"type\": \"surface\"}], \"table\": [{\"cells\": {\"fill\": {\"color\": \"#EBF0F8\"}, \"line\": {\"color\": \"white\"}}, \"header\": {\"fill\": {\"color\": \"#C8D4E3\"}, \"line\": {\"color\": \"white\"}}, \"type\": \"table\"}]}, \"layout\": {\"annotationdefaults\": {\"arrowcolor\": \"#2a3f5f\", \"arrowhead\": 0, \"arrowwidth\": 1}, \"coloraxis\": {\"colorbar\": {\"outlinewidth\": 0, \"ticks\": \"\"}}, \"colorscale\": {\"diverging\": [[0, \"#8e0152\"], [0.1, \"#c51b7d\"], [0.2, \"#de77ae\"], [0.3, \"#f1b6da\"], [0.4, \"#fde0ef\"], [0.5, \"#f7f7f7\"], [0.6, \"#e6f5d0\"], [0.7, \"#b8e186\"], [0.8, \"#7fbc41\"], [0.9, \"#4d9221\"], [1, \"#276419\"]], \"sequential\": [[0.0, \"#0d0887\"], [0.1111111111111111, \"#46039f\"], [0.2222222222222222, \"#7201a8\"], [0.3333333333333333, \"#9c179e\"], [0.4444444444444444, \"#bd3786\"], [0.5555555555555556, \"#d8576b\"], [0.6666666666666666, \"#ed7953\"], [0.7777777777777778, \"#fb9f3a\"], [0.8888888888888888, \"#fdca26\"], [1.0, \"#f0f921\"]], \"sequentialminus\": [[0.0, \"#0d0887\"], [0.1111111111111111, \"#46039f\"], [0.2222222222222222, \"#7201a8\"], [0.3333333333333333, \"#9c179e\"], [0.4444444444444444, \"#bd3786\"], [0.5555555555555556, \"#d8576b\"], [0.6666666666666666, \"#ed7953\"], [0.7777777777777778, \"#fb9f3a\"], [0.8888888888888888, \"#fdca26\"], [1.0, \"#f0f921\"]]}, \"colorway\": [\"#636efa\", \"#EF553B\", \"#00cc96\", \"#ab63fa\", \"#FFA15A\", \"#19d3f3\", \"#FF6692\", \"#B6E880\", \"#FF97FF\", \"#FECB52\"], \"font\": {\"color\": \"#2a3f5f\"}, \"geo\": {\"bgcolor\": \"white\", \"lakecolor\": \"white\", \"landcolor\": \"#E5ECF6\", \"showlakes\": true, \"showland\": true, \"subunitcolor\": \"white\"}, \"hoverlabel\": {\"align\": \"left\"}, \"hovermode\": \"closest\", \"mapbox\": {\"style\": \"light\"}, \"paper_bgcolor\": \"white\", \"plot_bgcolor\": \"#E5ECF6\", \"polar\": {\"angularaxis\": {\"gridcolor\": \"white\", \"linecolor\": \"white\", \"ticks\": \"\"}, \"bgcolor\": \"#E5ECF6\", \"radialaxis\": {\"gridcolor\": \"white\", \"linecolor\": \"white\", \"ticks\": \"\"}}, \"scene\": {\"xaxis\": {\"backgroundcolor\": \"#E5ECF6\", \"gridcolor\": \"white\", \"gridwidth\": 2, \"linecolor\": \"white\", \"showbackground\": true, \"ticks\": \"\", \"zerolinecolor\": \"white\"}, \"yaxis\": {\"backgroundcolor\": \"#E5ECF6\", \"gridcolor\": \"white\", \"gridwidth\": 2, \"linecolor\": \"white\", \"showbackground\": true, \"ticks\": \"\", \"zerolinecolor\": \"white\"}, \"zaxis\": {\"backgroundcolor\": \"#E5ECF6\", \"gridcolor\": \"white\", \"gridwidth\": 2, \"linecolor\": \"white\", \"showbackground\": true, \"ticks\": \"\", \"zerolinecolor\": \"white\"}}, \"shapedefaults\": {\"line\": {\"color\": \"#2a3f5f\"}}, \"ternary\": {\"aaxis\": {\"gridcolor\": \"white\", \"linecolor\": \"white\", \"ticks\": \"\"}, \"baxis\": {\"gridcolor\": \"white\", \"linecolor\": \"white\", \"ticks\": \"\"}, \"bgcolor\": \"#E5ECF6\", \"caxis\": {\"gridcolor\": \"white\", \"linecolor\": \"white\", \"ticks\": \"\"}}, \"title\": {\"x\": 0.05}, \"xaxis\": {\"automargin\": true, \"gridcolor\": \"white\", \"linecolor\": \"white\", \"ticks\": \"\", \"title\": {\"standoff\": 15}, \"zerolinecolor\": \"white\", \"zerolinewidth\": 2}, \"yaxis\": {\"automargin\": true, \"gridcolor\": \"white\", \"linecolor\": \"white\", \"ticks\": \"\", \"title\": {\"standoff\": 15}, \"zerolinecolor\": \"white\", \"zerolinewidth\": 2}}}, \"xaxis\": {\"anchor\": \"y\", \"domain\": [0.0, 1.0], \"title\": {\"text\": \"x\"}}, \"yaxis\": {\"anchor\": \"x\", \"domain\": [0.0, 1.0], \"title\": {\"text\": \"y\"}}},\n",
       "                        {\"responsive\": true}\n",
       "                    ).then(function(){\n",
       "                            \n",
       "var gd = document.getElementById('5cfabace-efcf-40ce-ad50-2fcffff72de7');\n",
       "var x = new MutationObserver(function (mutations, observer) {{\n",
       "        var display = window.getComputedStyle(gd).display;\n",
       "        if (!display || display === 'none') {{\n",
       "            console.log([gd, 'removed!']);\n",
       "            Plotly.purge(gd);\n",
       "            observer.disconnect();\n",
       "        }}\n",
       "}});\n",
       "\n",
       "// Listen for the removal of the full notebook cells\n",
       "var notebookContainer = gd.closest('#notebook-container');\n",
       "if (notebookContainer) {{\n",
       "    x.observe(notebookContainer, {childList: true});\n",
       "}}\n",
       "\n",
       "// Listen for the clearing of the current output cell\n",
       "var outputEl = gd.closest('.output');\n",
       "if (outputEl) {{\n",
       "    x.observe(outputEl, {childList: true});\n",
       "}}\n",
       "\n",
       "                        })\n",
       "                };\n",
       "                });\n",
       "            </script>\n",
       "        </div>"
      ]
     },
     "metadata": {},
     "output_type": "display_data"
    }
   ],
   "source": [
    "accs = []\n",
    "teams=[]\n",
    "\n",
    "for key in team_all.keys():\n",
    "    wins=team_correct[key]\n",
    "    total=team_all[key]\n",
    "    teams.append(key)\n",
    "    accs.append(wins/total)\n",
    "    \n",
    "px.bar(x=teams,y=accs)\n"
   ]
  },
  {
   "cell_type": "code",
   "execution_count": null,
   "metadata": {},
   "outputs": [],
   "source": []
  }
 ],
 "metadata": {
  "kernelspec": {
   "display_name": "Python 3",
   "language": "python",
   "name": "python3"
  },
  "language_info": {
   "codemirror_mode": {
    "name": "ipython",
    "version": 3
   },
   "file_extension": ".py",
   "mimetype": "text/x-python",
   "name": "python",
   "nbconvert_exporter": "python",
   "pygments_lexer": "ipython3",
   "version": "3.8.3"
  }
 },
 "nbformat": 4,
 "nbformat_minor": 4
}
